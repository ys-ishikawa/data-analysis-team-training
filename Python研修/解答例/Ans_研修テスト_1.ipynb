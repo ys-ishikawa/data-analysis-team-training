{
 "cells": [
  {
   "cell_type": "markdown",
   "id": "aee258d3-840b-4395-8b18-f03f8efb1321",
   "metadata": {},
   "source": [
    "### 1. べき乗\n",
    "変数aに5を代入，変数bに10を代入し，aのb乗を出力してください．\n",
    "\n",
    "なお、期待する出力は以下。\\\n",
    "```9765625```"
   ]
  },
  {
   "cell_type": "code",
   "execution_count": 1,
   "id": "efbc0d8f-6ca2-40b0-91bd-05a0b138b5ec",
   "metadata": {},
   "outputs": [
    {
     "name": "stdout",
     "output_type": "stream",
     "text": [
      "9765625\n"
     ]
    }
   ],
   "source": [
    "a = 5\n",
    "b = 10\n",
    "print(a ** b)"
   ]
  },
  {
   "cell_type": "markdown",
   "id": "53f0074e-5790-469a-a68a-7f19052a9545",
   "metadata": {},
   "source": [
    "### 2. if，比較演算子\n",
    "変数aに5を代入，変数bに10を代入し，aとbのうち大きい方を出力してください．\n",
    "\n",
    "なお、期待する出力は以下。\\\n",
    "```10```"
   ]
  },
  {
   "cell_type": "code",
   "execution_count": 2,
   "id": "ec5395bf-5838-40bc-b1fc-b31bb6b65f4d",
   "metadata": {},
   "outputs": [
    {
     "name": "stdout",
     "output_type": "stream",
     "text": [
      "10\n"
     ]
    }
   ],
   "source": [
    "a = 5\n",
    "b = 10\n",
    "\n",
    "if a > b:\n",
    "    print(a)\n",
    "else:\n",
    "    print(b)"
   ]
  },
  {
   "cell_type": "markdown",
   "id": "1ddd8982-325b-412d-9860-e57ba2ab94e1",
   "metadata": {},
   "source": [
    "### 3. 比較演算子==, bool\n",
    "変数aに5を代入し，aが偶数ならTrue，そうでなければFalseを出力してください.\n",
    "\n",
    "なお、期待する出力は以下。\\\n",
    "```False```"
   ]
  },
  {
   "cell_type": "code",
   "execution_count": 3,
   "id": "4f4d08fe-ef67-460c-8623-593e77ad720f",
   "metadata": {},
   "outputs": [
    {
     "name": "stdout",
     "output_type": "stream",
     "text": [
      "False\n"
     ]
    }
   ],
   "source": [
    "a = 5\n",
    "\n",
    "if a % 2 == 0:\n",
    "    print(True)\n",
    "else:\n",
    "    print(False)"
   ]
  },
  {
   "cell_type": "markdown",
   "id": "96aeca40-c8f6-49b2-8276-b24238b6c6e8",
   "metadata": {},
   "source": [
    "### 4. 文字列(1)\n",
    "変数に，'python'という文字列を代入し，先頭の文字を0番目として2番目の文字を出力してください．\n",
    "\n",
    "なお、期待する出力は以下。\\\n",
    "```t```"
   ]
  },
  {
   "cell_type": "code",
   "execution_count": 4,
   "id": "298d956f-d18f-43d3-acca-d0570a47c9ec",
   "metadata": {},
   "outputs": [
    {
     "name": "stdout",
     "output_type": "stream",
     "text": [
      "t\n"
     ]
    }
   ],
   "source": [
    "s = 'python'\n",
    "\n",
    "print(s[2])"
   ]
  },
  {
   "cell_type": "markdown",
   "id": "fd30fbd3-bf4a-4c3b-bf26-d2f20336d1e7",
   "metadata": {},
   "source": [
    "### 5. 文字列(2)\n",
    "'py'と'thon'という2つの文字列をそれぞれ変数に代入し，結合したものを出力してください．\n",
    "\n",
    "なお、期待する出力は以下。\\\n",
    "```python```"
   ]
  },
  {
   "cell_type": "code",
   "execution_count": 5,
   "id": "97bf8f1b-aa48-4c91-91b8-800b2145cc6c",
   "metadata": {},
   "outputs": [
    {
     "name": "stdout",
     "output_type": "stream",
     "text": [
      "python\n"
     ]
    }
   ],
   "source": [
    "str_1 = 'py'\n",
    "str_2 = 'thon'\n",
    "\n",
    "print(str_1 + str_2)"
   ]
  },
  {
   "cell_type": "markdown",
   "id": "cd340342-0a1d-4492-a020-fc4c62f03969",
   "metadata": {},
   "source": [
    "### 6. 文字列（3）\n",
    "変数aに5を，変数bに3を代入し，これらの変数を用いて'5%3=2'という文字列を出力してください．\n",
    "\n",
    "なお、期待する出力は以下。\\\n",
    "```5%3=2```"
   ]
  },
  {
   "cell_type": "code",
   "execution_count": 6,
   "id": "8e5a56e8-f436-4ce5-87b2-7adc5142d238",
   "metadata": {},
   "outputs": [
    {
     "name": "stdout",
     "output_type": "stream",
     "text": [
      "5%3=2\n"
     ]
    }
   ],
   "source": [
    "a = 5\n",
    "b = 3\n",
    "\n",
    "print(f'{a}%{b}=2')"
   ]
  },
  {
   "cell_type": "markdown",
   "id": "8db83656-b500-4c5d-b8e7-54502f303cda",
   "metadata": {},
   "source": [
    "### 7. 文字列（4）\n",
    "変数に文字列'some1'を代入し，この文字列中の1をoneに変換してください．\n",
    "\n",
    "なお、期待する出力は以下。\\\n",
    "```someone```"
   ]
  },
  {
   "cell_type": "code",
   "execution_count": 7,
   "id": "80175270-88a7-43dd-9f18-f86edfae6422",
   "metadata": {},
   "outputs": [
    {
     "name": "stdout",
     "output_type": "stream",
     "text": [
      "someone\n"
     ]
    }
   ],
   "source": [
    "s = 'some1'\n",
    "print(s.replace('1', 'one'))"
   ]
  },
  {
   "cell_type": "markdown",
   "id": "cd8358a6-e97b-419b-9ca1-1c833f696250",
   "metadata": {},
   "source": [
    "### 8. 文字列（5）\n",
    "変数に文字列'How many characters?'を代入し，この文字列の文字数を出力してください．空白も含めるものとします．\n",
    "\n",
    "なお、期待する出力は以下。\\\n",
    "```20```"
   ]
  },
  {
   "cell_type": "code",
   "execution_count": 8,
   "id": "140f3421-e4e3-4511-a18a-87c3da1ce5cb",
   "metadata": {},
   "outputs": [
    {
     "data": {
      "text/plain": [
       "20"
      ]
     },
     "execution_count": 8,
     "metadata": {},
     "output_type": "execute_result"
    }
   ],
   "source": [
    "s = 'How many characters?'\n",
    "len(s)"
   ]
  },
  {
   "cell_type": "markdown",
   "id": "37b8937e-7550-40b3-b253-564fb14841fe",
   "metadata": {},
   "source": [
    "### 9. リスト (1)\n",
    "変数にリスト[1,2,3,4,5]を代入し，(先頭を0番目として)3番目の要素を出力してください．\n",
    "\n",
    "なお、期待する出力は以下。\\\n",
    "```4```"
   ]
  },
  {
   "cell_type": "code",
   "execution_count": 9,
   "id": "ae5a98c0-860b-4d15-9f86-9866449df6f7",
   "metadata": {},
   "outputs": [
    {
     "name": "stdout",
     "output_type": "stream",
     "text": [
      "4\n"
     ]
    }
   ],
   "source": [
    "li = [1, 2, 3, 4, 5]\n",
    "print(li[3])"
   ]
  },
  {
   "cell_type": "markdown",
   "id": "9031f6db-c19a-481e-b2a0-eee6d06645bf",
   "metadata": {},
   "source": [
    "### 10. リスト (2)\n",
    "変数list_1に[1,2,3]のリストを代入，変数list_2に[4,5]のリストを代入し，2つのリストを結合して出力してください．\n",
    "\n",
    "なお、期待する出力は以下。\\\n",
    "```[1,2,3,4,5]```"
   ]
  },
  {
   "cell_type": "code",
   "execution_count": 10,
   "id": "2fc9caf8-a1ed-4813-b261-dd0b7c2539f7",
   "metadata": {},
   "outputs": [
    {
     "name": "stdout",
     "output_type": "stream",
     "text": [
      "[1, 2, 3, 4, 5]\n"
     ]
    }
   ],
   "source": [
    "list_1 = [1, 2, 3]\n",
    "list_2 = [4, 5]\n",
    "\n",
    "print(list_1 + list_2)"
   ]
  },
  {
   "cell_type": "markdown",
   "id": "bfa13195-ab95-47d5-a995-3839af8bc6e1",
   "metadata": {},
   "source": [
    "### 11. リスト (3)\n",
    "変数にリスト[1,2,3,4,5]を代入し，このリストの末尾に6,7を1つずつ順番に追加してください．その後，最終的なリストを出力してください．\n",
    "\n",
    "なお、期待する出力は以下。\\\n",
    "```[1,2,3,4,5,6,7]```"
   ]
  },
  {
   "cell_type": "code",
   "execution_count": 11,
   "id": "f4aeada8-2e6a-4d87-8dd8-44f519518da7",
   "metadata": {},
   "outputs": [
    {
     "name": "stdout",
     "output_type": "stream",
     "text": [
      "[1, 2, 3, 4, 5, 6, 7]\n"
     ]
    }
   ],
   "source": [
    "li = [1, 2, 3, 4, 5]\n",
    "li.append(6)\n",
    "li.append(7)\n",
    "print(li)"
   ]
  },
  {
   "cell_type": "markdown",
   "id": "78a544fa-45bf-450a-b6c7-293f380ebfbe",
   "metadata": {},
   "source": [
    "### 12. リスト (4)\n",
    "変数にリスト[1,2,3,4,5]を作成し，先頭を0番目としたときに，0番目と1番目の間に100を挿入してください．\n",
    "\n",
    "なお、期待する出力は以下。\\\n",
    "```[1,100,2,3,4,5]```"
   ]
  },
  {
   "cell_type": "code",
   "execution_count": 12,
   "id": "aa394198-d90c-4701-827b-c90345c03bf5",
   "metadata": {},
   "outputs": [
    {
     "name": "stdout",
     "output_type": "stream",
     "text": [
      "[1, 100, 2, 3, 4, 5]\n"
     ]
    }
   ],
   "source": [
    "li = [1, 2, 3, 4, 5]\n",
    "li.insert(1, 100)\n",
    "print(li)"
   ]
  },
  {
   "cell_type": "markdown",
   "id": "2553298a-e390-4078-82f1-00f325122643",
   "metadata": {},
   "source": [
    "### 13. リスト (5)\n",
    "変数に[1,2,3,4,5]の5つの要素を持つリストを格納して，偶数の要素だけ出力してください．\n",
    "\n",
    "なお、期待する出力は以下。\\\n",
    "```2 4```"
   ]
  },
  {
   "cell_type": "code",
   "execution_count": 13,
   "id": "53f40e31-4a50-4389-9be8-7547c44f692f",
   "metadata": {},
   "outputs": [
    {
     "name": "stdout",
     "output_type": "stream",
     "text": [
      "2\n",
      "4\n"
     ]
    }
   ],
   "source": [
    "li = [1, 2, 3, 4, 5]\n",
    "for i in li:\n",
    "    if i % 2 == 0:\n",
    "        print(i)"
   ]
  },
  {
   "cell_type": "markdown",
   "id": "149bb442-8f7b-41c5-a038-555939eb46a0",
   "metadata": {},
   "source": [
    "### 14. リスト (6)\n",
    "変数に[1,2,3,4,5]の5つの要素を持つリストを格納して，添え字が偶数番目の要素だけ出力してください．出力形式は問いません．ただし，先頭の添え字を0番目とします．\n",
    "\n",
    "なお、期待する出力は以下。\\\n",
    "```1 3 5```"
   ]
  },
  {
   "cell_type": "code",
   "execution_count": 14,
   "id": "e891aff7-a358-493f-82a5-8a531c5b32c6",
   "metadata": {},
   "outputs": [
    {
     "name": "stdout",
     "output_type": "stream",
     "text": [
      "1\n",
      "3\n",
      "5\n"
     ]
    }
   ],
   "source": [
    "li = [1, 2, 3, 4, 5]\n",
    "for index, element in enumerate(li):\n",
    "    if index % 2 == 0:\n",
    "        print(element)"
   ]
  },
  {
   "cell_type": "markdown",
   "id": "219298cc-b332-4676-8caa-205bb0cedc4c",
   "metadata": {},
   "source": [
    "### 15.　リスト (7)\n",
    "変数にリスト[11,22,33,44,55,66]を代入し，リストの要素数を出力してください．\n",
    "\n",
    "なお、期待する出力は以下。\\\n",
    "```6```"
   ]
  },
  {
   "cell_type": "code",
   "execution_count": 15,
   "id": "0fbbae4e-a39c-487b-af6a-573deea66d5e",
   "metadata": {},
   "outputs": [
    {
     "data": {
      "text/plain": [
       "6"
      ]
     },
     "execution_count": 15,
     "metadata": {},
     "output_type": "execute_result"
    }
   ],
   "source": [
    "li = [11, 22, 33, 44, 55, 66]\n",
    "len(li)"
   ]
  },
  {
   "cell_type": "code",
   "execution_count": null,
   "id": "d9502b0a-e6c7-4b38-8746-609820ca36f3",
   "metadata": {},
   "outputs": [],
   "source": []
  }
 ],
 "metadata": {
  "kernelspec": {
   "display_name": "default:Python",
   "language": "python",
   "name": "conda-env-default-py"
  },
  "language_info": {
   "codemirror_mode": {
    "name": "ipython",
    "version": 3
   },
   "file_extension": ".py",
   "mimetype": "text/x-python",
   "name": "python",
   "nbconvert_exporter": "python",
   "pygments_lexer": "ipython3",
   "version": "3.9.10"
  }
 },
 "nbformat": 4,
 "nbformat_minor": 5
}

{
 "cells": [
  {
   "cell_type": "markdown",
   "id": "37e2a4f5-1282-41c0-924c-ee330cd0beda",
   "metadata": {},
   "source": [
    "### 16. リスト， if（存在確認）\n",
    "リスト```[11,22,33,44,55]```に，値44が存在するかどうかをifを用いて判定してください．\\\n",
    "存在すればTrue，そうでなければFalseを出力してください．\n",
    "\n",
    "なお、期待する出力は以下. \\\n",
    "```True```"
   ]
  },
  {
   "cell_type": "code",
   "execution_count": 2,
   "id": "05487bd3-8e2f-42e3-bd8c-9d193a775c9c",
   "metadata": {},
   "outputs": [
    {
     "name": "stdout",
     "output_type": "stream",
     "text": [
      "True\n"
     ]
    }
   ],
   "source": [
    "li = [11, 22, 33, 44, 55]\n",
    "\n",
    "if 44 in li:\n",
    "    print(True)\n",
    "else:\n",
    "    print(False)"
   ]
  },
  {
   "cell_type": "markdown",
   "id": "41a4effe-7fac-45e7-9066-0fd6527bd8f4",
   "metadata": {},
   "source": [
    "### 17. タプル，リストの負の添え字\n",
    "変数に```[1,2,3,4,5]```の5つの要素を持つリストを格納して，リストの先頭の要素と末尾の要素をタプルとして格納し，出力してください．\n",
    "\n",
    "なお、期待する出力は以下.\\\n",
    "```(1, 5)```"
   ]
  },
  {
   "cell_type": "code",
   "execution_count": 3,
   "id": "db9ea3c1-df2a-45aa-8c43-cb81babb5cb2",
   "metadata": {},
   "outputs": [
    {
     "name": "stdout",
     "output_type": "stream",
     "text": [
      "(1, 5)\n"
     ]
    }
   ],
   "source": [
    "li = [1, 2, 3, 4, 5]\n",
    "tup = (li[0], li[-1])\n",
    "print(tup)"
   ]
  },
  {
   "cell_type": "markdown",
   "id": "b098f42e-b1c6-4327-9484-f9a28afa2426",
   "metadata": {},
   "source": [
    "### 18. 辞書の出力 (1)\n",
    "変数に，値の組みとして```{'A':1, 'B':2, 'C':3, 'D':4, 'E':5}```を持つ辞書を格納し，keyのみをfor文を使って出力してください．\n",
    "\n",
    "なお、期待する出力は以下.\\\n",
    "```A, B, C, D, E```"
   ]
  },
  {
   "cell_type": "code",
   "execution_count": 6,
   "id": "083b9eb7-d879-481c-b1f3-6c7bf530520b",
   "metadata": {},
   "outputs": [
    {
     "name": "stdout",
     "output_type": "stream",
     "text": [
      "A\n",
      "B\n",
      "C\n",
      "D\n",
      "E\n"
     ]
    }
   ],
   "source": [
    "dict = {'A':1, 'B':2, 'C':3, 'D':4, 'E':5}\n",
    "\n",
    "for key in dict:\n",
    "    print(key)"
   ]
  },
  {
   "cell_type": "markdown",
   "id": "faebdc57-2eee-4e83-be4a-928c0bbfe63e",
   "metadata": {},
   "source": [
    "### 19. 辞書の出力 (2)\n",
    "変数に，値の組みとして```{'A':1, 'B':2, 'C':3, 'D':4, 'E':5}```を持つ辞書を格納し，値(value)をリストを使って出力してください．\n",
    "\n",
    "なお、期待する出力は以下.\\\n",
    "```[1,2,3,4,5]```"
   ]
  },
  {
   "cell_type": "code",
   "execution_count": 8,
   "id": "aff0d239-8bf6-4771-a30b-0711856c4c78",
   "metadata": {},
   "outputs": [
    {
     "name": "stdout",
     "output_type": "stream",
     "text": [
      "[1, 2, 3, 4, 5]\n"
     ]
    }
   ],
   "source": [
    "dict = {'A':1, 'B':2, 'C':3, 'D':4, 'E':5}\n",
    "print(list(dict.values()))"
   ]
  },
  {
   "cell_type": "markdown",
   "id": "c8517917-2dc4-4a99-9492-d74238349b9c",
   "metadata": {},
   "source": [
    "### 20. 辞書の出力 (3)\n",
    "変数に，値の組みとして```{'A':1, 'B':2, 'C':3, 'D':4, 'E':5}```を持つ辞書を格納し，for文を使ってkeyとvalueを出力してください．\\\n",
    "出力形式は問いません．\n",
    "\n",
    "なお、期待する出力(例)は以下.\\\n",
    "```A　1, B　2, C　3, D　4, E　5```"
   ]
  },
  {
   "cell_type": "code",
   "execution_count": 10,
   "id": "cf4e4156-fcbf-4db6-bfaf-2482c52cb4fc",
   "metadata": {},
   "outputs": [
    {
     "name": "stdout",
     "output_type": "stream",
     "text": [
      "A 1\n",
      "B 2\n",
      "C 3\n",
      "D 4\n",
      "E 5\n"
     ]
    }
   ],
   "source": [
    "dict = {'A':1, 'B':2, 'C':3, 'D':4, 'E':5}\n",
    "\n",
    "for key, value in dict.items():\n",
    "    print(key, value)"
   ]
  },
  {
   "cell_type": "markdown",
   "id": "a4b7be82-aec5-47a1-8d64-e14d7ce22440",
   "metadata": {},
   "source": [
    "### 21. スライス (1)\n",
    "変数に文字列'training'を代入し，先頭を0番目として，1番目から4番目までを取り出して出力してください．\n",
    "\n",
    "なお、期待する出力は以下.\\\n",
    "```rain```"
   ]
  },
  {
   "cell_type": "code",
   "execution_count": 11,
   "id": "2b81c2b5-83f4-455a-913d-9aff162e7bbe",
   "metadata": {},
   "outputs": [
    {
     "name": "stdout",
     "output_type": "stream",
     "text": [
      "rain\n"
     ]
    }
   ],
   "source": [
    "s = 'training'\n",
    "print(s[1:5])"
   ]
  },
  {
   "cell_type": "markdown",
   "id": "16b1b8d5-b49a-4750-9eb7-0a8d901e58ce",
   "metadata": {},
   "source": [
    "### 22. スライス (2)\n",
    "変数にリスト```[1,2,3,4,5]```を格納して，先頭を0番目として，2番目から３番目までを取り出して出力してください．\n",
    "\n",
    "なお、期待する出力は以下.\\\n",
    "```[3, 4]```"
   ]
  },
  {
   "cell_type": "code",
   "execution_count": 14,
   "id": "67364756-787a-44bc-bf43-d454ac483707",
   "metadata": {},
   "outputs": [
    {
     "name": "stdout",
     "output_type": "stream",
     "text": [
      "[3, 4]\n"
     ]
    }
   ],
   "source": [
    "li = [1, 2, 3, 4, 5]\n",
    "print(li[2:4])"
   ]
  },
  {
   "cell_type": "markdown",
   "id": "c41c23cb-ed57-4a32-baca-74e8b71f52b7",
   "metadata": {},
   "source": [
    "### 23. スライス (3)\n",
    "変数にリスト```[1,2,3,4,5]```を格納して，これを逆順に出力してください．\n",
    "\n",
    "なお、期待する出力は以下.\\\n",
    "```[5,4,3,2,1]```"
   ]
  },
  {
   "cell_type": "code",
   "execution_count": 15,
   "id": "433c3cd7-32e7-4cc8-8a78-83a7b7ec1eb7",
   "metadata": {},
   "outputs": [
    {
     "name": "stdout",
     "output_type": "stream",
     "text": [
      "[5, 4, 3, 2, 1]\n"
     ]
    }
   ],
   "source": [
    "li = [1, 2, 3, 4, 5]\n",
    "print(li[::-1])"
   ]
  },
  {
   "cell_type": "markdown",
   "id": "0abbc80c-9501-46b3-a9a1-2debbb3bc573",
   "metadata": {},
   "source": [
    "### 24. 型の確認\n",
    "3つの変数に以下のように代入したコードがあります．各変数の型を出力してください．出力形式は問いません．\n",
    "\n",
    "```data1 = {'A':1, 'B':2}```\\\n",
    "```data2 = \"python\"```\\\n",
    "```data3 = {1,2,3,4,5}```\n",
    "\n",
    "なお、期待する出力は以下.\\\n",
    "```<class 'dict'> <class 'str'> <class 'set'>```"
   ]
  },
  {
   "cell_type": "code",
   "execution_count": 19,
   "id": "58ac89d8-3ca4-477a-9002-5e260888afeb",
   "metadata": {},
   "outputs": [
    {
     "name": "stdout",
     "output_type": "stream",
     "text": [
      "<class 'dict'>\n",
      "<class 'str'>\n",
      "<class 'set'>\n"
     ]
    }
   ],
   "source": [
    "data1 = {'A':1, 'B':2}\n",
    "data2 = \"python\"\n",
    "data3 = {1,2,3,4,5}\n",
    "\n",
    "print(type(data1))\n",
    "print(type(data2))\n",
    "print(type(data3))"
   ]
  },
  {
   "cell_type": "markdown",
   "id": "deae15d3-ac35-4b99-abe3-fa0474df2839",
   "metadata": {},
   "source": [
    "### 25. 文字列の分割\n",
    "変数に文字列```'C,C++,Python,Java'```を代入し，この文字列を','で区切った後のリストを出力してください，\n",
    "\n",
    "なお、期待する出力は以下.\\\n",
    "```['C', 'C++', 'Python', 'Java']```"
   ]
  },
  {
   "cell_type": "code",
   "execution_count": 21,
   "id": "9440c3a1-fe06-480a-97b2-10bca6418864",
   "metadata": {},
   "outputs": [
    {
     "name": "stdout",
     "output_type": "stream",
     "text": [
      "['C', 'C++', 'Python', 'Java']\n"
     ]
    }
   ],
   "source": [
    "s = 'C,C++,Python,Java'\n",
    "li = s.split(',')\n",
    "print(li)"
   ]
  },
  {
   "cell_type": "markdown",
   "id": "67b71031-c8a9-4982-9d20-186ac36990f7",
   "metadata": {},
   "source": [
    "### 26. 文字列の結合\n",
    "変数にリスト```['This', 'is', 'a', 'sentence']```を代入し，これらを空白区切で結合した文字列を出力してください．\n",
    "\n",
    "なお、期待する出力を以下. \\\n",
    "```This is a sentence```"
   ]
  },
  {
   "cell_type": "code",
   "execution_count": 22,
   "id": "feafbf81-a4e8-4c2f-8670-21f2bb6a6139",
   "metadata": {},
   "outputs": [
    {
     "name": "stdout",
     "output_type": "stream",
     "text": [
      "This is a sentence\n"
     ]
    }
   ],
   "source": [
    "words = ['This', 'is', 'a', 'sentence']\n",
    "sentence = ' '.join(words)\n",
    "print(sentence)"
   ]
  },
  {
   "cell_type": "markdown",
   "id": "1ca5d63e-4d75-4a85-8c64-59b624db297b",
   "metadata": {},
   "source": [
    "### 27. 最大値,最小値の出力\n",
    "変数にリスト```[11,2,7,13,5]```を代入し，最大値,最小値を出力してください．\n",
    "\n",
    "なお、期待する出力を以下.\\\n",
    "```13```\\\n",
    "```2```"
   ]
  },
  {
   "cell_type": "code",
   "execution_count": 23,
   "id": "06221434-3fe1-455b-b365-0a16acfd1daf",
   "metadata": {},
   "outputs": [
    {
     "name": "stdout",
     "output_type": "stream",
     "text": [
      "13\n",
      "2\n"
     ]
    }
   ],
   "source": [
    "li = [11, 2, 7, 13, 5]\n",
    "print(max(li))\n",
    "print(min(li))"
   ]
  },
  {
   "cell_type": "markdown",
   "id": "4010f60d-d5e0-4fce-99d4-f0451d30efda",
   "metadata": {},
   "source": [
    "### 28. 総和の出力\n",
    "変数にリスト```[11,2,7,13,5]```を代入し，総和を出力してください．\n",
    "\n",
    "なお、期待する出力は以下.\\\n",
    "```38```"
   ]
  },
  {
   "cell_type": "code",
   "execution_count": 24,
   "id": "fb193dcb-208b-493e-817a-3aae51cf5118",
   "metadata": {},
   "outputs": [
    {
     "name": "stdout",
     "output_type": "stream",
     "text": [
      "38\n"
     ]
    }
   ],
   "source": [
    "li = [11, 2, 7, 13, 5]\n",
    "print(sum(li))"
   ]
  },
  {
   "cell_type": "markdown",
   "id": "9b7f11fd-0059-4a23-8363-4969bc407a6c",
   "metadata": {},
   "source": [
    "### 29. ソート\n",
    "変数にリスト```[3,5,1,6,4,1,2]```を格納し，降順に並び替えたリストを出力してください．\n",
    "\n",
    "なお、期待する出力は以下.\\\n",
    "```[6,5,4,3,2,1,1]```"
   ]
  },
  {
   "cell_type": "code",
   "execution_count": 29,
   "id": "cfecf4fb-4e4d-4863-ba19-6b228b221ad5",
   "metadata": {},
   "outputs": [
    {
     "name": "stdout",
     "output_type": "stream",
     "text": [
      "[6, 5, 4, 3, 2, 1, 1]\n"
     ]
    }
   ],
   "source": [
    "# <解答１>\n",
    "li = [3, 5, 1, 6, 4, 1, 2]\n",
    "new_list = sorted(li, reverse=True)\n",
    "print(new_list)"
   ]
  },
  {
   "cell_type": "code",
   "execution_count": 30,
   "id": "9dbf4c3f-bd8c-41a9-af36-7c1f8efddafb",
   "metadata": {},
   "outputs": [
    {
     "name": "stdout",
     "output_type": "stream",
     "text": [
      "[6, 5, 4, 3, 2, 1, 1]\n"
     ]
    }
   ],
   "source": [
    "# <解答2>\n",
    "li = [3, 5, 1, 6, 4, 1, 2]\n",
    "li.sort(reverse=True)\n",
    "print(li)"
   ]
  },
  {
   "cell_type": "markdown",
   "id": "eeac3174-bcfc-45f5-be61-1ca52e406809",
   "metadata": {},
   "source": [
    "### 30. リスト内包表記 (1)\n",
    "1から20の数字における偶数の値を取り出し、その値同士のべき乗をリストとして格納し、出力してください.\\\n",
    "ただし、リスト内包表記を使い実現すること."
   ]
  },
  {
   "cell_type": "code",
   "execution_count": 31,
   "id": "84425a78-78db-4b68-855f-4a4235aeb8dd",
   "metadata": {},
   "outputs": [
    {
     "name": "stdout",
     "output_type": "stream",
     "text": [
      "[4, 256, 46656, 16777216, 10000000000, 8916100448256, 11112006825558016, 18446744073709551616, 39346408075296537575424]\n"
     ]
    }
   ],
   "source": [
    "li = [i ** i for i in range(1, 20) if i % 2 == 0]\n",
    "print(li)"
   ]
  },
  {
   "cell_type": "code",
   "execution_count": null,
   "id": "931b2bb9-a2c1-4d37-9813-566160c4a6b7",
   "metadata": {},
   "outputs": [],
   "source": []
  }
 ],
 "metadata": {
  "kernelspec": {
   "display_name": "default:Python",
   "language": "python",
   "name": "conda-env-default-py"
  },
  "language_info": {
   "codemirror_mode": {
    "name": "ipython",
    "version": 3
   },
   "file_extension": ".py",
   "mimetype": "text/x-python",
   "name": "python",
   "nbconvert_exporter": "python",
   "pygments_lexer": "ipython3",
   "version": "3.9.10"
  }
 },
 "nbformat": 4,
 "nbformat_minor": 5
}

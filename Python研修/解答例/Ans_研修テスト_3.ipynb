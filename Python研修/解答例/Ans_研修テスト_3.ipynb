{
 "cells": [
  {
   "cell_type": "markdown",
   "id": "3649c098-a231-459c-a1e1-136519813860",
   "metadata": {},
   "source": [
    "### 31. リスト内包表記 (2)\n",
    "リスト```['image_1.png', 'image_2.png', 'image_3.jpeg', 'image_4.png']```で、拡張子が```.png```のファイル名で、拡張子を除いた部分（```***```.pngなら```***```の部分）を新しいリストとして作成し、出力してください.\n",
    "ただし、リスト内包表記を使うこと.\n",
    "\n",
    "なお、期待される出力は以下.\\\n",
    "```['image_1', 'image_2', 'image_4']```"
   ]
  },
  {
   "cell_type": "code",
   "execution_count": 5,
   "id": "f3a4ec80-a169-4124-b66e-65903937d4df",
   "metadata": {},
   "outputs": [
    {
     "data": {
      "text/plain": [
       "['image_1', 'image_2', 'image_4']"
      ]
     },
     "execution_count": 5,
     "metadata": {},
     "output_type": "execute_result"
    }
   ],
   "source": [
    "png_lists = ['image_1.png', 'image_2.png', 'image_3.jpeg', 'image_4.png']\n",
    "\n",
    "new_li = [png_list.split('.')[0] for png_list in png_lists if 'png' in png_list]\n",
    "new_li"
   ]
  },
  {
   "cell_type": "markdown",
   "id": "20665e2c-d85d-4e4f-a1e7-b86512653058",
   "metadata": {},
   "source": [
    "### 32. 関数の定義 (1)\n",
    "拡張子を返す関数を作成してください.引数にはファイル名を指定してください.\n",
    "また、作成した関数を適当なファイル名を用意し実行してください."
   ]
  },
  {
   "cell_type": "code",
   "execution_count": 7,
   "id": "5ad5b3d9-009e-483a-9dfb-31fb00a0420c",
   "metadata": {},
   "outputs": [],
   "source": [
    "def check_extension(file_name):\n",
    "    tmp = file_name.split('.')[-1]\n",
    "    return tmp"
   ]
  },
  {
   "cell_type": "code",
   "execution_count": 8,
   "id": "62d480ae-a315-4930-8574-ab6eab183bfb",
   "metadata": {},
   "outputs": [
    {
     "data": {
      "text/plain": [
       "'png'"
      ]
     },
     "execution_count": 8,
     "metadata": {},
     "output_type": "execute_result"
    }
   ],
   "source": [
    "file_name = 'image.png'\n",
    "check_extension(file_name)"
   ]
  },
  {
   "cell_type": "markdown",
   "id": "aae847e4-d800-452f-a2a0-b2968631fd54",
   "metadata": {},
   "source": [
    "### 33. 関数の定義 (2)\n",
    "文字列を```+```連結する関数を作成してください.引数には3つの文字列を指定できるようにし、引数の1つはデフォルトとして```Bricolage```としてください.\\\n",
    "また、作成した関数について、\\\n",
    "(1) 3つの引数を指定して実行すること.\\\n",
    "(2) デフォルト値を指定した引数以外の2つについて指定し、実行すること"
   ]
  },
  {
   "cell_type": "code",
   "execution_count": 2,
   "id": "3bd06e4f-5f05-40bc-93a6-8c7cef9e57c7",
   "metadata": {},
   "outputs": [],
   "source": [
    "def connect_three_string(str1:str, str2:str, str3:str='Bricolage') -> str:\n",
    "    tmp = f'{str1}+{str2}+{str3}'\n",
    "    return tmp"
   ]
  },
  {
   "cell_type": "code",
   "execution_count": 5,
   "id": "51b98aec-b446-4f0a-b54b-8daa51d74475",
   "metadata": {},
   "outputs": [
    {
     "data": {
      "text/plain": [
       "'株式+会社+ブリコラージュ'"
      ]
     },
     "execution_count": 5,
     "metadata": {},
     "output_type": "execute_result"
    }
   ],
   "source": [
    "# (1)\n",
    "connect_three_string('株式', '会社', 'ブリコラージュ')"
   ]
  },
  {
   "cell_type": "code",
   "execution_count": 6,
   "id": "7c75b9ba-5fc0-4d73-920e-0712e0df4bfd",
   "metadata": {},
   "outputs": [
    {
     "data": {
      "text/plain": [
       "'株式+会社+Bricolage'"
      ]
     },
     "execution_count": 6,
     "metadata": {},
     "output_type": "execute_result"
    }
   ],
   "source": [
    "# (2)\n",
    "connect_three_string(str1='株式', str2='会社')"
   ]
  },
  {
   "cell_type": "markdown",
   "id": "e02c8799-df5d-4314-902a-a3619bbb8554",
   "metadata": {},
   "source": [
    "### 34. lambda関数 (1)\n",
    "項番32　で作成した関数をlambda関数を使って実装し、適当なファイル名を用意し実行してください."
   ]
  },
  {
   "cell_type": "code",
   "execution_count": 9,
   "id": "81fded9a-4d34-46da-b303-45efb7adaf1f",
   "metadata": {},
   "outputs": [
    {
     "name": "stdout",
     "output_type": "stream",
     "text": [
      "png\n"
     ]
    }
   ],
   "source": [
    "f = lambda x: x.split('.')[-1]\n",
    "print(f('image.png'))"
   ]
  },
  {
   "cell_type": "markdown",
   "id": "68b31ef1-66e7-4fae-9170-6798b67d6339",
   "metadata": {},
   "source": [
    "### 35. lambda関数 (2)\n",
    "リスト```['1', '2', '3', '4', '5']```を準備し、それぞれの要素の先頭に```No.```をつけて出力すること.\\\n",
    "実装には、```map()```関数を使い、第一引数にはlambda関数で指定すること"
   ]
  },
  {
   "cell_type": "code",
   "execution_count": 11,
   "id": "f5efbf5e-e843-43eb-9ce0-be1581f04c98",
   "metadata": {},
   "outputs": [
    {
     "name": "stdout",
     "output_type": "stream",
     "text": [
      "No.1\n",
      "No.2\n",
      "No.3\n",
      "No.4\n",
      "No.5\n"
     ]
    }
   ],
   "source": [
    "str_nums = ['1', '2', '3', '4', '5']\n",
    "\n",
    "for element in map(lambda x: f'No.{x}', str_nums):\n",
    "    print(element)"
   ]
  },
  {
   "cell_type": "code",
   "execution_count": null,
   "id": "e29d87cb-0494-41ea-aa35-0fc497f2a683",
   "metadata": {},
   "outputs": [],
   "source": []
  }
 ],
 "metadata": {
  "kernelspec": {
   "display_name": "default:Python",
   "language": "python",
   "name": "conda-env-default-py"
  },
  "language_info": {
   "codemirror_mode": {
    "name": "ipython",
    "version": 3
   },
   "file_extension": ".py",
   "mimetype": "text/x-python",
   "name": "python",
   "nbconvert_exporter": "python",
   "pygments_lexer": "ipython3",
   "version": "3.9.10"
  }
 },
 "nbformat": 4,
 "nbformat_minor": 5
}

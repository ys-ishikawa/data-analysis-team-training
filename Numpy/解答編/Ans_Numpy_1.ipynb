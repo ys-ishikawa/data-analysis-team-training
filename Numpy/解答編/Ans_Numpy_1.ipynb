{
 "cells": [
  {
   "cell_type": "markdown",
   "id": "d286eb03-01fa-406a-b0ee-d4dad3373bb8",
   "metadata": {},
   "source": [
    "### 0. NumPyのインポートをしてください.\n",
    "インストールされていない場合、インストールしてください"
   ]
  },
  {
   "cell_type": "code",
   "execution_count": 1,
   "id": "b27d2413-1d39-4407-92c6-79299c0554d2",
   "metadata": {},
   "outputs": [],
   "source": [
    "import numpy as np"
   ]
  },
  {
   "cell_type": "markdown",
   "id": "a16b2901-9120-4d79-8f29-ff26ededdb53",
   "metadata": {},
   "source": [
    "### 1. リストからNumPyの配列(numpy.ndarray)を作成し,出力してください.また,配列の形状,データ型についても確認してください.\n",
    "リストは```[10, 20, 30, 40]```とします."
   ]
  },
  {
   "cell_type": "code",
   "execution_count": 2,
   "id": "0de72e94-8f9d-44b0-bdea-8e7636e00df3",
   "metadata": {},
   "outputs": [
    {
     "data": {
      "text/plain": [
       "array([10, 20, 30, 40])"
      ]
     },
     "metadata": {},
     "output_type": "display_data"
    },
    {
     "data": {
      "text/plain": [
       "(4,)"
      ]
     },
     "metadata": {},
     "output_type": "display_data"
    },
    {
     "data": {
      "text/plain": [
       "dtype('int64')"
      ]
     },
     "metadata": {},
     "output_type": "display_data"
    }
   ],
   "source": [
    "li = [10, 20, 30, 40]\n",
    "x = np.array(li)\n",
    "display(x)\n",
    "display(x.shape)\n",
    "display(x.dtype)"
   ]
  },
  {
   "cell_type": "markdown",
   "id": "3ab98358-ca7e-4185-bb9d-16286230d90c",
   "metadata": {},
   "source": [
    "### 2. ２つのリストから,ndarrayを作成し, 出力してください.また,配列の形状,データ型についても確認してください.\n",
    "リストの1つ目は```[10, 20, 30, 40]```, 2つ目は```[1.0, 2.0, 3.0, 4.0]```とします."
   ]
  },
  {
   "cell_type": "code",
   "execution_count": 3,
   "id": "40b733dd-83d0-456d-9f98-59b78644531d",
   "metadata": {},
   "outputs": [
    {
     "data": {
      "text/plain": [
       "array([[10., 20., 30., 40.],\n",
       "       [ 1.,  2.,  3.,  4.]])"
      ]
     },
     "metadata": {},
     "output_type": "display_data"
    },
    {
     "data": {
      "text/plain": [
       "(2, 4)"
      ]
     },
     "metadata": {},
     "output_type": "display_data"
    },
    {
     "data": {
      "text/plain": [
       "dtype('float64')"
      ]
     },
     "metadata": {},
     "output_type": "display_data"
    }
   ],
   "source": [
    "li_1 = [10, 20, 30, 40]\n",
    "li_2 = [1.0, 2.0, 3.0, 4.0]\n",
    "x = np.array([li_1, li_2])\n",
    "display(x)\n",
    "display(x.shape)\n",
    "display(x.dtype)"
   ]
  },
  {
   "cell_type": "markdown",
   "id": "4bebf20f-53d1-4861-8582-0c9e6e3ffb71",
   "metadata": {},
   "source": [
    "### 3. 以下の条件を元に２つのndarrayを作成し,出力してください.\n",
    "- Numpyのarange関数を使い、1〜9までの数字（配列）を作成し、3×3の多次元配列に変換してください.\n",
    "- Numpyのlinspace関数を使い、1〜10までの数字から等間隔の９つの数字で配列を作成し、3×3の多次元配列に変換してください."
   ]
  },
  {
   "cell_type": "code",
   "execution_count": 4,
   "id": "511987b8-ac36-4394-bac0-c77f8b9cd98b",
   "metadata": {},
   "outputs": [
    {
     "data": {
      "text/plain": [
       "array([[1, 2, 3],\n",
       "       [4, 5, 6],\n",
       "       [7, 8, 9]])"
      ]
     },
     "metadata": {},
     "output_type": "display_data"
    },
    {
     "data": {
      "text/plain": [
       "array([[ 1.   ,  2.125,  3.25 ],\n",
       "       [ 4.375,  5.5  ,  6.625],\n",
       "       [ 7.75 ,  8.875, 10.   ]])"
      ]
     },
     "metadata": {},
     "output_type": "display_data"
    }
   ],
   "source": [
    "x = np.arange(1, 10).reshape(3, 3)\n",
    "y = np.linspace(1, 10, 9).reshape(3, 3)\n",
    "\n",
    "display(x)\n",
    "display(y)"
   ]
  },
  {
   "cell_type": "markdown",
   "id": "3fb11435-fef5-4bf1-9269-dcdf64d7ce55",
   "metadata": {},
   "source": [
    "### 4. 3で作成した２つのndarrayを使い、加算、減算、乗算をし、出力してください.\n",
    "乗算は行列積ではないことに注意"
   ]
  },
  {
   "cell_type": "code",
   "execution_count": 5,
   "id": "26668bd2-7805-4880-a3e2-6761378ae115",
   "metadata": {},
   "outputs": [
    {
     "data": {
      "text/plain": [
       "array([[ 2.   ,  4.125,  6.25 ],\n",
       "       [ 8.375, 10.5  , 12.625],\n",
       "       [14.75 , 16.875, 19.   ]])"
      ]
     },
     "metadata": {},
     "output_type": "display_data"
    },
    {
     "data": {
      "text/plain": [
       "array([[ 0.   , -0.125, -0.25 ],\n",
       "       [-0.375, -0.5  , -0.625],\n",
       "       [-0.75 , -0.875, -1.   ]])"
      ]
     },
     "metadata": {},
     "output_type": "display_data"
    },
    {
     "data": {
      "text/plain": [
       "array([[ 1.  ,  4.25,  9.75],\n",
       "       [17.5 , 27.5 , 39.75],\n",
       "       [54.25, 71.  , 90.  ]])"
      ]
     },
     "metadata": {},
     "output_type": "display_data"
    }
   ],
   "source": [
    "display(x + y)\n",
    "display(x - y)\n",
    "display(x * y)"
   ]
  },
  {
   "cell_type": "code",
   "execution_count": 6,
   "id": "3b8860e1-fbd2-47d5-872f-bf34efcd080b",
   "metadata": {},
   "outputs": [
    {
     "data": {
      "text/plain": [
       "array([[ 33.   ,  39.75 ,  46.5  ],\n",
       "       [ 72.375,  89.25 , 106.125],\n",
       "       [111.75 , 138.75 , 165.75 ]])"
      ]
     },
     "metadata": {},
     "output_type": "display_data"
    }
   ],
   "source": [
    "# 参考: 行列積（Python3.5以降）\n",
    "display(x @ y)"
   ]
  },
  {
   "cell_type": "markdown",
   "id": "d6586448-95fb-4045-910e-32e581efc8ed",
   "metadata": {},
   "source": [
    "### 5. 3で作成した２つのndarrayを使い、1つを9×1の多次元配列に変換してください.また、もう一つを１×9の多次元配列に変換してください.\n",
    "なお、ndarray.reshape(9, 1) または　ndarray.reshape(1, 9)以外の方法で実現してください."
   ]
  },
  {
   "cell_type": "code",
   "execution_count": 7,
   "id": "7bdb6abd-b124-4495-94d3-eee2e608fdaf",
   "metadata": {},
   "outputs": [
    {
     "data": {
      "text/plain": [
       "array([[1],\n",
       "       [2],\n",
       "       [3],\n",
       "       [4],\n",
       "       [5],\n",
       "       [6],\n",
       "       [7],\n",
       "       [8],\n",
       "       [9]])"
      ]
     },
     "metadata": {},
     "output_type": "display_data"
    },
    {
     "data": {
      "text/plain": [
       "array([[ 1.   ,  2.125,  3.25 ,  4.375,  5.5  ,  6.625,  7.75 ,  8.875,\n",
       "        10.   ]])"
      ]
     },
     "metadata": {},
     "output_type": "display_data"
    }
   ],
   "source": [
    "x = x.reshape(-1, 1)\n",
    "y = y.reshape(1, -1)\n",
    "display(x)\n",
    "display(y)"
   ]
  },
  {
   "cell_type": "markdown",
   "id": "27237897-db7b-4f7b-82c7-950ecdafa9d5",
   "metadata": {},
   "source": [
    "### 6. 5.で変換した２つのndarrayの次元数を確認してください."
   ]
  },
  {
   "cell_type": "code",
   "execution_count": 8,
   "id": "4a4db7c7-27f6-41df-9876-39e62f060b03",
   "metadata": {},
   "outputs": [
    {
     "data": {
      "text/plain": [
       "2"
      ]
     },
     "metadata": {},
     "output_type": "display_data"
    },
    {
     "data": {
      "text/plain": [
       "2"
      ]
     },
     "metadata": {},
     "output_type": "display_data"
    }
   ],
   "source": [
    "display(x.ndim)\n",
    "display(y.ndim)"
   ]
  },
  {
   "cell_type": "markdown",
   "id": "83575ddb-7434-4990-8f0b-783fc61ca370",
   "metadata": {},
   "source": [
    "### 7. 以下の処理を実行してください.\n",
    "- リスト```[10, 20, 30, 40, 20, 20, 10, 70, 10, 30]```からndarrayを作成してください.\n",
    "- 作成したndarrayのユニークな値を出力してください."
   ]
  },
  {
   "cell_type": "code",
   "execution_count": 9,
   "id": "79ff270c-728c-4d46-a811-ad86a1d91885",
   "metadata": {},
   "outputs": [
    {
     "data": {
      "text/plain": [
       "array([10, 20, 30, 40, 70])"
      ]
     },
     "metadata": {},
     "output_type": "display_data"
    }
   ],
   "source": [
    "x = np.array([10, 20, 30, 40, 20, 20, 10, 70, 10, 30])\n",
    "display(np.unique(x))"
   ]
  },
  {
   "cell_type": "markdown",
   "id": "44631a2e-1b27-44dc-b726-e139453a26e2",
   "metadata": {},
   "source": [
    "### 8. ０で初期化されたndarrayを作成し、表示してください.\n",
    "ただし、3×4のndarrayとしてください.また,データ型は問いません."
   ]
  },
  {
   "cell_type": "code",
   "execution_count": 10,
   "id": "aee930a2-cf92-4bba-82c9-06e07811bb92",
   "metadata": {},
   "outputs": [
    {
     "data": {
      "text/plain": [
       "array([[0., 0., 0., 0.],\n",
       "       [0., 0., 0., 0.],\n",
       "       [0., 0., 0., 0.]])"
      ]
     },
     "metadata": {},
     "output_type": "display_data"
    }
   ],
   "source": [
    "x = np.zeros(shape=(3, 4))\n",
    "display(x)"
   ]
  },
  {
   "cell_type": "markdown",
   "id": "bab74c9e-c97e-4d84-a1db-f295aacc23bb",
   "metadata": {},
   "source": [
    "### 9. shapeが(3, 4)で要素が全て1のndarray及び、shapeが(3, 2)で要素が全て2のndarrayを作成し,出力してください."
   ]
  },
  {
   "cell_type": "code",
   "execution_count": 11,
   "id": "7908f4af-213f-4bfd-94ee-c257b0720520",
   "metadata": {},
   "outputs": [
    {
     "data": {
      "text/plain": [
       "array([[1., 1., 1., 1.],\n",
       "       [1., 1., 1., 1.],\n",
       "       [1., 1., 1., 1.]])"
      ]
     },
     "metadata": {},
     "output_type": "display_data"
    },
    {
     "data": {
      "text/plain": [
       "array([[2, 2],\n",
       "       [2, 2],\n",
       "       [2, 2]])"
      ]
     },
     "metadata": {},
     "output_type": "display_data"
    }
   ],
   "source": [
    "x = np.ones((3, 4))\n",
    "y = np.full((3, 2), 2)\n",
    "\n",
    "display(x)\n",
    "display(y)"
   ]
  },
  {
   "cell_type": "markdown",
   "id": "a48d6696-53e5-4b33-86ca-63b2cdfd95cb",
   "metadata": {},
   "source": [
    "### 10. 9で作成した２つのndarrayを横（列方向）に結合して、出力してください."
   ]
  },
  {
   "cell_type": "code",
   "execution_count": 12,
   "id": "6be5d257-b8c8-4277-960f-b126d2e2ffa0",
   "metadata": {},
   "outputs": [
    {
     "data": {
      "text/plain": [
       "array([[1., 1., 1., 1., 2., 2.],\n",
       "       [1., 1., 1., 1., 2., 2.],\n",
       "       [1., 1., 1., 1., 2., 2.]])"
      ]
     },
     "metadata": {},
     "output_type": "display_data"
    }
   ],
   "source": [
    "# concatenateを使い、axisで結合する方向を指定する場合\n",
    "z = np.concatenate([x, y], axis=1)\n",
    "display(z)"
   ]
  },
  {
   "cell_type": "code",
   "execution_count": 13,
   "id": "49054ed6-2bf6-4ee4-975b-a8320a12c9d3",
   "metadata": {},
   "outputs": [
    {
     "data": {
      "text/plain": [
       "array([[1., 1., 1., 1., 2., 2.],\n",
       "       [1., 1., 1., 1., 2., 2.],\n",
       "       [1., 1., 1., 1., 2., 2.]])"
      ]
     },
     "metadata": {},
     "output_type": "display_data"
    }
   ],
   "source": [
    "# hstackを使う場合\n",
    "z = np.hstack([x, y])\n",
    "display(z)"
   ]
  },
  {
   "cell_type": "markdown",
   "id": "d32043f8-cde3-434e-afea-fb13835f575e",
   "metadata": {},
   "source": [
    "### 11. 0〜20までの数字から等間隔の12個の数字で配列(ndarray)を作成し、4×3の多次元配列に変換してください.その上で、2行目の要素にアクセスし、出力してください."
   ]
  },
  {
   "cell_type": "code",
   "execution_count": 14,
   "id": "329c4ae1-3476-4528-944c-b03bf5821eeb",
   "metadata": {},
   "outputs": [
    {
     "data": {
      "text/plain": [
       "array([10.90909091, 12.72727273, 14.54545455])"
      ]
     },
     "metadata": {},
     "output_type": "display_data"
    }
   ],
   "source": [
    "x = np.linspace(0, 20, 12).reshape(4, 3)\n",
    "display(x[2,:])"
   ]
  },
  {
   "cell_type": "markdown",
   "id": "9d627750-8c81-4d3f-9551-1e11b908c113",
   "metadata": {},
   "source": [
    "### 12. 1〜12までの数字でndarrayを作成し、3×4の多次元配列に変換してください.その上で、2列目の要素にアクセスし、出力してください."
   ]
  },
  {
   "cell_type": "code",
   "execution_count": 15,
   "id": "6d065cec-b872-4645-b039-567cc89758ae",
   "metadata": {},
   "outputs": [
    {
     "data": {
      "text/plain": [
       "array([ 2,  6, 10])"
      ]
     },
     "metadata": {},
     "output_type": "display_data"
    }
   ],
   "source": [
    "x = np.arange(1, 13).reshape(3, 4)\n",
    "display(x[:,1])"
   ]
  },
  {
   "cell_type": "markdown",
   "id": "d3c676dc-aa52-454c-b33b-9ac8143d6abf",
   "metadata": {},
   "source": [
    "### 13. 3×3の要素が全て0のndarrayを作成し、2行目, 1列目の要素を1に入れ替え、出力してください."
   ]
  },
  {
   "cell_type": "code",
   "execution_count": 16,
   "id": "9ddabbf9-26f5-4c3e-a43f-e941a4e43ee1",
   "metadata": {},
   "outputs": [
    {
     "data": {
      "text/plain": [
       "array([[0, 0, 0],\n",
       "       [1, 0, 0],\n",
       "       [0, 0, 0]], dtype=int8)"
      ]
     },
     "metadata": {},
     "output_type": "display_data"
    }
   ],
   "source": [
    "x = np.zeros(shape=(3, 3), dtype=np.int8)\n",
    "x[1, 0] = 1\n",
    "display(x)"
   ]
  },
  {
   "cell_type": "code",
   "execution_count": null,
   "id": "535e1aa3-8f8a-48b9-a43d-3d27d856ce3c",
   "metadata": {},
   "outputs": [],
   "source": []
  }
 ],
 "metadata": {
  "kernelspec": {
   "display_name": "default:Python",
   "language": "python",
   "name": "conda-env-default-py"
  },
  "language_info": {
   "codemirror_mode": {
    "name": "ipython",
    "version": 3
   },
   "file_extension": ".py",
   "mimetype": "text/x-python",
   "name": "python",
   "nbconvert_exporter": "python",
   "pygments_lexer": "ipython3",
   "version": "3.9.10"
  }
 },
 "nbformat": 4,
 "nbformat_minor": 5
}

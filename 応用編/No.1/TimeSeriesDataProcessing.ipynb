{
 "cells": [
  {
   "cell_type": "markdown",
   "id": "f5557577-6c24-4a45-9dc9-d30985b04542",
   "metadata": {},
   "source": [
    "## 時系列データを読み込む\n",
    "- 大手町・丸の内・有楽町エリアにおける人流オープンデータの人数カウントデータ（1秒単位）を利用\n",
    "> https://www.geospatial.jp/ckan/dataset/human-flow-marunouchi"
   ]
  },
  {
   "cell_type": "code",
   "execution_count": 41,
   "id": "61b93790-e743-41ef-b27b-fe370a5102bd",
   "metadata": {},
   "outputs": [],
   "source": [
    "import numpy as np\n",
    "import pandas as pd\n",
    "import matplotlib.pyplot as plt\n",
    "import seaborn as sns\n",
    "%matplotlib inline\n",
    "\n",
    "from glob import glob\n",
    "import datetime as dt"
   ]
  },
  {
   "cell_type": "markdown",
   "id": "0640fc3e-aa42-45c5-940b-992cc6d3e469",
   "metadata": {},
   "source": [
    "---\n",
    "1. ```data/person_count_1sec/out_0001/```ディレクトリ内のCSVファイル一覧を取得し、先頭の5行を表示してください。"
   ]
  },
  {
   "cell_type": "code",
   "execution_count": null,
   "id": "ee209674-937e-4504-947d-60fa9b7483d9",
   "metadata": {},
   "outputs": [],
   "source": []
  },
  {
   "cell_type": "markdown",
   "id": "45097044-e467-442f-b185-df34d97c9f2d",
   "metadata": {},
   "source": [
    "---\n",
    "2. 1で取得したファイル一覧の最初の１つを読み込み、先頭の5行を表示してください。また、併せてデータの型について確認してください。"
   ]
  },
  {
   "cell_type": "code",
   "execution_count": null,
   "id": "63b4b156-fd2b-450a-bf39-54e3b491ea04",
   "metadata": {},
   "outputs": [],
   "source": []
  },
  {
   "cell_type": "markdown",
   "id": "6a8306c8-b26f-4b3c-83ee-81b5e5fd92d8",
   "metadata": {},
   "source": [
    "---\n",
    "3. 1で読み込んだデータフレームのreceive_timeの方をdatetime型に変更し、再度先頭の5行を表示してください。"
   ]
  },
  {
   "cell_type": "code",
   "execution_count": null,
   "id": "013b08b9-aefa-48b1-9858-2c1c6f7d6923",
   "metadata": {},
   "outputs": [],
   "source": []
  },
  {
   "cell_type": "markdown",
   "id": "b4d43041-1f93-460f-bb86-629eaed9ce2f",
   "metadata": {},
   "source": [
    "---\n",
    "4. ```data/person_count_1sec/out_0001/```ディレクトリ内のCSVファイルを全て読み込み、一つのデータフレーム（data）として読み込み、先頭の5行を表示してください。"
   ]
  },
  {
   "cell_type": "code",
   "execution_count": null,
   "id": "9cf40abf-d700-4d89-8a16-e7bfe7f25bd1",
   "metadata": {},
   "outputs": [],
   "source": []
  },
  {
   "cell_type": "markdown",
   "id": "6cc32f86-4e81-4bdf-8883-fe1a0af8577d",
   "metadata": {},
   "source": [
    "---\n",
    "5. データ(data)の件数を確認してください。"
   ]
  },
  {
   "cell_type": "code",
   "execution_count": null,
   "id": "1d027d11-4734-4c26-880b-a17cda94653b",
   "metadata": {},
   "outputs": [],
   "source": []
  },
  {
   "cell_type": "markdown",
   "id": "5ad9d9df-365b-4cc1-94fd-94571cd1c5ac",
   "metadata": {},
   "source": [
    "## 日付の範囲を確認する"
   ]
  },
  {
   "cell_type": "markdown",
   "id": "9b2a5edf-d35a-41a1-baa3-853de4828269",
   "metadata": {},
   "source": [
    "---\n",
    "6. データ(data)について、receive_timeの開始日と終了日を取得してください。また、データの期間の長さを計算してください。"
   ]
  },
  {
   "cell_type": "code",
   "execution_count": null,
   "id": "488338c6-8729-41e1-9c59-0c90d9854abd",
   "metadata": {},
   "outputs": [],
   "source": []
  },
  {
   "cell_type": "markdown",
   "id": "f108740d-10ba-4efb-a3a2-7888a8ca994f",
   "metadata": {},
   "source": [
    "---\n",
    "7. receive_timeを日単位に変換し、receive_dateとしてデータ(data)に追加してください。"
   ]
  },
  {
   "cell_type": "code",
   "execution_count": null,
   "id": "4a7aa1ad-8236-4da7-9a48-2e6ba8494dc4",
   "metadata": {},
   "outputs": [],
   "source": []
  },
  {
   "cell_type": "markdown",
   "id": "3b706c44-c0d5-4b75-9bd1-637fb3b016b0",
   "metadata": {},
   "source": [
    "---\n",
    "8. データ(data)を日毎で集計し、件数を抽出してください。"
   ]
  },
  {
   "cell_type": "code",
   "execution_count": null,
   "id": "981d2d63-3f92-4abf-86c2-6513a5b0d739",
   "metadata": {},
   "outputs": [],
   "source": []
  },
  {
   "cell_type": "markdown",
   "id": "1b10418c-cf24-4234-bd53-5031ce02225e",
   "metadata": {},
   "source": [
    "---\n",
    "9. 8.で集計した各日数のデータ数を棒グラフを使って可視化し、データの分布を確認してください。"
   ]
  },
  {
   "cell_type": "code",
   "execution_count": null,
   "id": "0e69659e-8bcc-4310-bb1c-7b7bee67a1e5",
   "metadata": {},
   "outputs": [],
   "source": []
  },
  {
   "cell_type": "markdown",
   "id": "0ebdbd10-005f-4003-a6cd-776746e55c1e",
   "metadata": {},
   "source": [
    "## 日付から曜日を算出する"
   ]
  },
  {
   "cell_type": "markdown",
   "id": "07f53edb-b469-4db4-abfd-f1e1749e4167",
   "metadata": {},
   "source": [
    "---\n",
    "10. データ（data）に曜日情報（数値または名称、またはその両方）のカラムを追加してください。"
   ]
  },
  {
   "cell_type": "code",
   "execution_count": null,
   "id": "c6aac31a-8a8b-47df-8395-2f1c47e70b34",
   "metadata": {},
   "outputs": [],
   "source": []
  },
  {
   "cell_type": "markdown",
   "id": "b4b14619-b75a-41cc-be54-df2a73ca9def",
   "metadata": {},
   "source": [
    "## 特定範囲のデータに絞り込む"
   ]
  },
  {
   "cell_type": "markdown",
   "id": "9274fb98-bbc1-429d-98a9-43d700e1e755",
   "metadata": {},
   "source": [
    "---\n",
    "11. 同じくらいのデータ量がありそうな2021-01-20から2021-01-22の3日間について絞り込み、抽出したものを別のデータフレーム（data_extract）としてください。また、先頭の5行、末尾の５行を表示してください。"
   ]
  },
  {
   "cell_type": "code",
   "execution_count": null,
   "id": "92c634b0-1fc7-4060-ab2f-355b912ea4ce",
   "metadata": {},
   "outputs": [],
   "source": []
  },
  {
   "cell_type": "markdown",
   "id": "eb0ac9d8-4dd7-4362-b115-7d4313f9da50",
   "metadata": {},
   "source": [
    "---\n",
    "12. 2021-01-20から2021-01-22の3日間のデータ（data_extract）について、取得日時（receive_time）をミリ秒で四捨五入し、新しい列名（receive_time_sec）として追加し、先頭5行を表示してください。また、ミリ秒で四捨五入したことで重複が発生していないか確認し、重複データがあった場合にはそれを表示すること。"
   ]
  },
  {
   "cell_type": "code",
   "execution_count": null,
   "id": "2fe26098-ab72-403e-8549-f03f51652acb",
   "metadata": {},
   "outputs": [],
   "source": []
  },
  {
   "cell_type": "markdown",
   "id": "0e34369a-3abb-402d-bf07-895e5ca245a7",
   "metadata": {},
   "source": [
    "---\n",
    "13. 2021-01-20から2021-01-22の3日間のデータ（data_extract）について、取得日時（receive_time）をミリ秒で切り捨てし、その値を列名（receive_time_sec）に代入し、先頭5行を表示してください。また、ミリ秒で切り捨てしたことで重複が発生していないか確認し、重複データがあった場合にはそれを表示すること。"
   ]
  },
  {
   "cell_type": "code",
   "execution_count": null,
   "id": "fe1f913a-4537-49d9-a136-a611c737add2",
   "metadata": {},
   "outputs": [],
   "source": []
  },
  {
   "cell_type": "markdown",
   "id": "238c9864-6a82-485c-a3f0-a12a1c83d1bb",
   "metadata": {},
   "source": [
    "## 秒単位のデータを整形する"
   ]
  },
  {
   "cell_type": "markdown",
   "id": "69411e97-1a71-4ecc-9bca-9fd503a2ed4e",
   "metadata": {},
   "source": [
    "---\n",
    "13. 重複があり、データが抜けている箇所があるため、綺麗な秒単位のデータに整形する。2021-01-20から2021-01-22の3日間のデータ（data_extract）について、秒単位の日付データ（base_data）を作成してください。また、3日間のデータ（data_extract）と日付データ（base_data）を比較し、欠損値がいくつあるか確認してください。"
   ]
  },
  {
   "cell_type": "code",
   "execution_count": null,
   "id": "97ac63f6-b560-4a1b-9e69-ecfe374098ee",
   "metadata": {},
   "outputs": [],
   "source": []
  },
  {
   "cell_type": "markdown",
   "id": "879d27b3-fb15-49e7-8976-cb676597f27b",
   "metadata": {},
   "source": [
    "---\n",
    "14. 3日間のデータ（data_extract）と日付データ（base_data）を結合し、新しいデータフレーム（base_data_extract）としてください。また、先頭5行を表示してください。欠損値の確認を行い、13.と違いがないかを確認すること。"
   ]
  },
  {
   "cell_type": "code",
   "execution_count": null,
   "id": "4bd33864-aa27-4d14-879b-e1c9e7e3b5ef",
   "metadata": {},
   "outputs": [],
   "source": []
  },
  {
   "cell_type": "markdown",
   "id": "e397b4cc-4275-4126-ae3d-94f7bf9cfe3b",
   "metadata": {},
   "source": [
    "## 欠損データの処理を行う\n",
    "- 1. は売上データなどで利用。\n",
    "- 2. や 3. は時系列データで用いられる\n",
    "\n",
    "1. 0やデータの平均値等の特定値で埋める\n",
    "2. 1つ前or1つ後のデータで埋める\n",
    "3. 線形補間などで前後関係から計算した結果で埋める方法"
   ]
  },
  {
   "cell_type": "markdown",
   "id": "52f76d91-82fd-4f9c-b8df-d12aef473668",
   "metadata": {},
   "source": [
    "---\n",
    "15. データフレーム（base_data_extract）の欠損値補完を「前のデータで埋める」方針で実施してください。欠損値補完をおこなったデータフレームの先頭5行を表示してください。"
   ]
  },
  {
   "cell_type": "code",
   "execution_count": null,
   "id": "c7f913d1-534c-484c-a08b-4ed1beca87de",
   "metadata": {},
   "outputs": [],
   "source": []
  },
  {
   "cell_type": "markdown",
   "id": "aa678710-7dd9-4e12-8973-d9fef94946b7",
   "metadata": {},
   "source": [
    "## 通った人数を可視化する\n",
    "- in1（エリア1に入口から入場し出口から退場した人数（取得開始時からの累計））\n",
    "- out1（エリア1に出口から入場し入口から退場した人数（取得開始時からの累計））"
   ]
  },
  {
   "cell_type": "markdown",
   "id": "36259c36-455a-4230-a9a1-d6c5128e0073",
   "metadata": {},
   "source": [
    "---\n",
    "16. 通った人数を可視化するするため、データフレーム（base_data_extract）からreceive_time_sec, in1, out1を絞り込み抽出し、分析用のデータフレーム（data_analytics）としてください。また、先頭5行を表示すること。"
   ]
  },
  {
   "cell_type": "code",
   "execution_count": null,
   "id": "c315c2b6-b501-4dcf-a003-eb418d67d32b",
   "metadata": {},
   "outputs": [],
   "source": []
  },
  {
   "cell_type": "markdown",
   "id": "e72db0a3-24a7-4f69-8771-cf786522ffbc",
   "metadata": {},
   "source": [
    "---\n",
    "17. 1秒間での差を計算するために、分析用のデータフレーム（data_analytics）の1秒前のデータ（data_analytics_1sec）を作成してください。その上で、分析用のデータフレーム（data_analytics）と結合し、一つのデータフレームとし結果、先頭の5行を表示してください。なお、data_analytics_1secの列名は、一秒前の時間（receive_time_sec_before_1sec）、一秒前のin1(in1_before_1sec)、一秒前のout1(out1_before_1sec)とすること。"
   ]
  },
  {
   "cell_type": "code",
   "execution_count": null,
   "id": "989206fe-9b27-4a6d-8787-7a45cd1b4114",
   "metadata": {},
   "outputs": [],
   "source": []
  },
  {
   "cell_type": "markdown",
   "id": "d5a1349c-7d0b-4d63-97d8-642158a244fc",
   "metadata": {},
   "source": [
    "---\n",
    "18. 分析用のデータフレーム（data_analytics）のin1と一秒前のin1（in1_before_1sec）の差を求め、データフレーム(data_analytics)の新しい列名としてin1_calcとしてください。outについても同様の処理を実施すること。その上で、先頭の５行を表示してください。"
   ]
  },
  {
   "cell_type": "code",
   "execution_count": null,
   "id": "c53b55e3-3ac2-4393-ba22-280a087c633d",
   "metadata": {},
   "outputs": [],
   "source": []
  },
  {
   "cell_type": "markdown",
   "id": "58831c45-3c73-43f4-acf3-e896b159f99d",
   "metadata": {},
   "source": [
    "---\n",
    "19. 分析用のデータフレーム（data_analytics）で可視化を検討する。秒単位でデータを可視化すると、多すぎるため１時間単位で集計を行いたい。　取得時間の秒単位（receive_time_sec）を１時間単位（2021/1/20 10）の形に変更し、データフレーム（data_analytics）の新しい列名としてdate_hourを追加してください。その上で、先頭の5行を表示すること。"
   ]
  },
  {
   "cell_type": "code",
   "execution_count": null,
   "id": "babf567e-516a-428f-842c-efab9b5f6cdc",
   "metadata": {},
   "outputs": [],
   "source": []
  },
  {
   "cell_type": "markdown",
   "id": "8fe2c4ec-c524-4918-87c2-f04f433b73ed",
   "metadata": {},
   "source": [
    "---\n",
    "20. 可視化用のデータフレーム（viz_data）を用意する。抽出する列名は、date_hour, in1_calc, out1_calとし、１時間単位ごとで合計を求めること。その上で、データがどのようになっているか確認すること。"
   ]
  },
  {
   "cell_type": "code",
   "execution_count": null,
   "id": "ae327e7d-2ca0-42cd-9452-6f2bc5627106",
   "metadata": {},
   "outputs": [],
   "source": []
  },
  {
   "cell_type": "markdown",
   "id": "8918ba0b-8742-4327-8f26-03d6bdb3729e",
   "metadata": {},
   "source": [
    "---\n",
    "21. 可視化用のデータフレーム（viz_data）を確認すると、in1_calc, out1_calcが横持ちデータになっているため、縦持ちデータに変更すること。その上で、データについて確認すること。"
   ]
  },
  {
   "cell_type": "code",
   "execution_count": null,
   "id": "636e90f1-909c-423d-9921-1fe522ab8629",
   "metadata": {},
   "outputs": [],
   "source": []
  },
  {
   "cell_type": "markdown",
   "id": "217d6626-ab8d-4505-8c1e-3581a4319b8e",
   "metadata": {},
   "source": [
    "---\n",
    "22. 可視化用のデータフレーム（viz_data）を用い、in1_calc, out1_calc毎に折れ線グラフを描画してください。"
   ]
  },
  {
   "cell_type": "code",
   "execution_count": null,
   "id": "c190b18a-3ca2-48ea-9542-6ddb36645c8b",
   "metadata": {},
   "outputs": [],
   "source": []
  },
  {
   "cell_type": "markdown",
   "id": "f7303cd7-5dec-4f69-8e96-fe8e6ca6b1e2",
   "metadata": {},
   "source": [
    "## 移動平均を計算して可視化する"
   ]
  },
  {
   "cell_type": "markdown",
   "id": "48c4d999-fa69-49d5-a306-1c5aea47d1e4",
   "metadata": {},
   "source": [
    "---\n",
    "23. 可視化用のデータフレーム（viz_data）で、3時間移動平均を算出し、22.と同じように折れ線グラフを描画してください。"
   ]
  },
  {
   "cell_type": "code",
   "execution_count": null,
   "id": "ffb917bb-3a17-4e9b-920e-86fb42380cc5",
   "metadata": {},
   "outputs": [],
   "source": []
  }
 ],
 "metadata": {
  "kernelspec": {
   "display_name": "default:Python",
   "language": "python",
   "name": "conda-env-default-py"
  },
  "language_info": {
   "codemirror_mode": {
    "name": "ipython",
    "version": 3
   },
   "file_extension": ".py",
   "mimetype": "text/x-python",
   "name": "python",
   "nbconvert_exporter": "python",
   "pygments_lexer": "ipython3",
   "version": "3.9.10"
  }
 },
 "nbformat": 4,
 "nbformat_minor": 5
}

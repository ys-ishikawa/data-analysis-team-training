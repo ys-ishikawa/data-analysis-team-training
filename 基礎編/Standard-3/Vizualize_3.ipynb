{
 "cells": [
  {
   "cell_type": "markdown",
   "id": "ba38293e-6548-41bb-955d-eead563cfac3",
   "metadata": {},
   "source": [
    "### 0. 必要なモジュールをimport してください（必要に応じて以下のセルに追記していくこと）"
   ]
  },
  {
   "cell_type": "code",
   "execution_count": null,
   "id": "e56eb563-fe57-4ce8-91ad-759b93fc23a4",
   "metadata": {},
   "outputs": [],
   "source": []
  },
  {
   "cell_type": "markdown",
   "id": "cf632df2-ea57-48dd-9df0-b0b4b56ddf71",
   "metadata": {},
   "source": [
    "### 1. dataディレクトリにある、eStat_子供の学習費調査_平成３０年度_学校種別の学習費_加工済み.csvを読み込み、データフレームとして出力してください。"
   ]
  },
  {
   "cell_type": "code",
   "execution_count": null,
   "id": "35bfd4ee-329b-4a3b-b011-f385a8e3c32f",
   "metadata": {},
   "outputs": [],
   "source": []
  },
  {
   "cell_type": "markdown",
   "id": "928a9b1e-ebf8-40c0-9f0a-d7e27bc600c7",
   "metadata": {},
   "source": [
    "### 3. 学習費総額, 学校教育費, 授業料, 修学旅行・遠足・見学費, 学級・児童会・生徒会費, PTA会費の行を抜き出し、新しいデータフレームとしてください。"
   ]
  },
  {
   "cell_type": "code",
   "execution_count": null,
   "id": "31e2fc43-926f-4e17-86a8-f421184b657d",
   "metadata": {},
   "outputs": [],
   "source": []
  },
  {
   "cell_type": "markdown",
   "id": "10cf3bf5-989f-4ccf-a2bf-42a8eb79cc2e",
   "metadata": {},
   "source": [
    "### 4. 表頭、表側を入れ替えたデータフレームを出力してください。\n",
    "なお、表側(index)は学校種別にし、表頭（columns）は学習費総額, 学校教育費, 授業料, 修学旅行・遠足・見学費, 学級・児童会・生徒会費, PTA会費としてください。"
   ]
  },
  {
   "cell_type": "code",
   "execution_count": null,
   "id": "abe1ba1e-ff97-4dfa-a8c7-9657ce7d046b",
   "metadata": {},
   "outputs": [],
   "source": []
  },
  {
   "cell_type": "markdown",
   "id": "0c5efcc6-ccd9-45bc-8b32-4dd0175567be",
   "metadata": {},
   "source": [
    "### 5. 学校種別毎の授業料を図示してください。"
   ]
  },
  {
   "cell_type": "code",
   "execution_count": null,
   "id": "1657bfe1-bc90-40f7-bcc4-e9ad45cc01b9",
   "metadata": {},
   "outputs": [],
   "source": []
  },
  {
   "cell_type": "markdown",
   "id": "e1471104-f32f-4570-895f-3501a49bdf7d",
   "metadata": {},
   "source": [
    "### 6. 学校種別毎の学校教育費を図示してください"
   ]
  },
  {
   "cell_type": "code",
   "execution_count": null,
   "id": "5f6f7aa3-58cd-4a2b-b096-7bace17b99c1",
   "metadata": {},
   "outputs": [],
   "source": []
  },
  {
   "cell_type": "markdown",
   "id": "3d66e5d6-f65d-4e9a-9ae7-87354b46f873",
   "metadata": {},
   "source": [
    "### 7. 学校種別毎のPTA会費を図示してください"
   ]
  },
  {
   "cell_type": "code",
   "execution_count": null,
   "id": "6e65dd27-e98e-4565-bf49-565c3c5b6ab8",
   "metadata": {},
   "outputs": [],
   "source": []
  },
  {
   "cell_type": "markdown",
   "id": "896dbc7d-52b5-4d99-8bc3-b73ff88d3fad",
   "metadata": {},
   "source": [
    "### 8. 修学旅行・遠足・見学費、学級・児童会・生徒会費、PTA会費について、各学校種別で比較できるように図示してください。\n",
    "出力結果は、Vizualize_3_no.8_sampleを参考にすること"
   ]
  },
  {
   "cell_type": "code",
   "execution_count": null,
   "id": "e37ba954-f3db-4c55-8a9a-e41658b730db",
   "metadata": {},
   "outputs": [],
   "source": []
  },
  {
   "cell_type": "code",
   "execution_count": null,
   "id": "b7c09c97-1e3b-47b8-85b4-2d1eec209125",
   "metadata": {},
   "outputs": [],
   "source": []
  }
 ],
 "metadata": {
  "kernelspec": {
   "display_name": "default:Python",
   "language": "python",
   "name": "conda-env-default-py"
  },
  "language_info": {
   "codemirror_mode": {
    "name": "ipython",
    "version": 3
   },
   "file_extension": ".py",
   "mimetype": "text/x-python",
   "name": "python",
   "nbconvert_exporter": "python",
   "pygments_lexer": "ipython3",
   "version": "3.9.10"
  }
 },
 "nbformat": 4,
 "nbformat_minor": 5
}

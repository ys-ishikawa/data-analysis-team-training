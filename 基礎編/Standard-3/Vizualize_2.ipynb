{
 "cells": [
  {
   "cell_type": "markdown",
   "id": "abe56de2-b12b-454c-9d17-f137d42d5942",
   "metadata": {},
   "source": [
    "### 0. 必要なモジュールをimport してください（必要に応じて以下のセルに追記していくこと）"
   ]
  },
  {
   "cell_type": "code",
   "execution_count": null,
   "id": "8ed96f17-d069-4a4a-8d46-c3de66dd53af",
   "metadata": {},
   "outputs": [],
   "source": []
  },
  {
   "cell_type": "markdown",
   "id": "0300c81c-006f-4bfe-b1f1-7f59e9d3ffdd",
   "metadata": {},
   "source": [
    "### 1. ボストン市の住宅価格データをscikit-learnから取得し、データフレームに格納すること。\n",
    "### なお、住宅価格は「PRICE」とし、一つのデータフレームとする。\n",
    "\n",
    "↓↓ 以下は、データセットの各カラムの説明 \\\n",
    "（参考） Boston house-prices (ボストン市の住宅価格) \\\n",
    "https://pythondatascience.plavox.info/scikit-learn/scikit-learn%E3%81%AB%E4%BB%98%E5%B1%9E%E3%81%97%E3%81%A6%E3%81%84%E3%82%8B%E3%83%87%E3%83%BC%E3%82%BF%E3%82%BB%E3%83%83%E3%83%88"
   ]
  },
  {
   "cell_type": "code",
   "execution_count": null,
   "id": "295f5547-9a88-440f-832c-f57e5b0da993",
   "metadata": {},
   "outputs": [],
   "source": []
  },
  {
   "cell_type": "markdown",
   "id": "7e432565-4cc2-436a-b6aa-b4deae925c95",
   "metadata": {},
   "source": [
    "### 2. 取得したデータで作成したデータフレームの先頭5行を表示すること"
   ]
  },
  {
   "cell_type": "code",
   "execution_count": null,
   "id": "12326d2e-fed6-4dce-aad1-69e591f0d192",
   "metadata": {},
   "outputs": [],
   "source": []
  },
  {
   "cell_type": "markdown",
   "id": "cc9edf66-69a2-4a1e-a720-70bdf7d4ecb4",
   "metadata": {},
   "source": [
    "### 3. 住宅価格の分布をヒストグラムで図示してください。"
   ]
  },
  {
   "cell_type": "code",
   "execution_count": null,
   "id": "ca51d1f4-6b83-47fe-9362-8f174770ed99",
   "metadata": {},
   "outputs": [],
   "source": []
  },
  {
   "cell_type": "markdown",
   "id": "781b2961-071e-4a13-b6f9-3544d72ff8b6",
   "metadata": {},
   "source": [
    "### 4. 人口1人当たりの犯罪発生数の分布をヒストグラムで図示してください。なお、ビンの幅は5とすること。 "
   ]
  },
  {
   "cell_type": "code",
   "execution_count": null,
   "id": "7b07abfe-1c63-47e4-953a-6dac6e50bc01",
   "metadata": {},
   "outputs": [],
   "source": []
  },
  {
   "cell_type": "markdown",
   "id": "4a824d65-360a-4c53-96a2-5bc0da49edb3",
   "metadata": {},
   "source": [
    "### 5. 1940年より前に建てられた物件の割合の分布をグラフで図示してください。"
   ]
  },
  {
   "cell_type": "code",
   "execution_count": null,
   "id": "cb57f4a6-e5fb-4184-b773-379406f3bffa",
   "metadata": {},
   "outputs": [],
   "source": []
  },
  {
   "cell_type": "markdown",
   "id": "4a493e42-0aff-416f-a1ef-6b14e791ae2d",
   "metadata": {},
   "source": [
    "### 6. 川の隣かどうか（CHAS） をグラフで図示してください。"
   ]
  },
  {
   "cell_type": "code",
   "execution_count": null,
   "id": "a6c399fb-580a-4654-98e2-aeaa179ee783",
   "metadata": {},
   "outputs": [],
   "source": []
  },
  {
   "cell_type": "markdown",
   "id": "12a4a4f4-0be8-42e1-a7e7-df9b2fa51eb3",
   "metadata": {},
   "source": [
    "### 7. 犯罪発生率と家賃の関係を散布図で図示してください。"
   ]
  },
  {
   "cell_type": "code",
   "execution_count": null,
   "id": "8d312e9f-c742-45a0-9ab6-63704367623b",
   "metadata": {},
   "outputs": [],
   "source": []
  },
  {
   "cell_type": "markdown",
   "id": "5beba7cc-2afc-4f79-8b95-6a83b5a5afa1",
   "metadata": {},
   "source": [
    "### 8. データセットの以下の変数について、散布図行列を作成し図示してください。\n",
    "- 人口1人当たりの犯罪発生数\n",
    "- 25,000平方フィート以上の住居区画の占める割合\n",
    "- NOx の濃度\n",
    "- 住居の平均部屋数\n",
    "- $10,000あたりの不動産税率の総計\n",
    "- 町毎の児童と教師の比率\n",
    "- 住宅価格"
   ]
  },
  {
   "cell_type": "markdown",
   "id": "22e6ada1-d39b-4d1e-a12a-2b979d5c5404",
   "metadata": {},
   "source": [
    "### 9. 8.と同様の変数について、変数間の相関をヒートマップで図示してください。"
   ]
  },
  {
   "cell_type": "code",
   "execution_count": null,
   "id": "498aa5e3-b634-48be-b2b7-7ced37bcfb66",
   "metadata": {},
   "outputs": [],
   "source": []
  },
  {
   "cell_type": "code",
   "execution_count": null,
   "id": "f9475bee-e17c-4a5d-8fb1-8bb38be280a9",
   "metadata": {},
   "outputs": [],
   "source": []
  }
 ],
 "metadata": {
  "kernelspec": {
   "display_name": "default:Python",
   "language": "python",
   "name": "conda-env-default-py"
  },
  "language_info": {
   "codemirror_mode": {
    "name": "ipython",
    "version": 3
   },
   "file_extension": ".py",
   "mimetype": "text/x-python",
   "name": "python",
   "nbconvert_exporter": "python",
   "pygments_lexer": "ipython3",
   "version": "3.9.10"
  }
 },
 "nbformat": 4,
 "nbformat_minor": 5
}

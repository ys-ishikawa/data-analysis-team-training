{
 "cells": [
  {
   "cell_type": "markdown",
   "id": "837c850c-d01c-46d0-a142-cf9835f2a1a6",
   "metadata": {
    "tags": []
   },
   "source": [
    "# 簡単な線形回帰モデル(単回帰モデル)\n",
    "\n",
    "\n",
    "### テーマ：　勤続年数によって残業時間はどの程度増えるか、もしくは減るか\n",
    "\n",
    "< データの情報 >\n",
    "- ID: 社員ID\n",
    "- section: 所属部署\n",
    "- tenure: 勤続年数\n",
    "- overtime: 残業時間"
   ]
  },
  {
   "cell_type": "code",
   "execution_count": 1,
   "id": "4a79e61c-e9dd-4bc0-b9cc-efa6c4f05ef4",
   "metadata": {},
   "outputs": [],
   "source": [
    "import numpy as np\n",
    "from sklearn.linear_model import LinearRegression\n",
    "import pandas as pd\n",
    "import matplotlib.pyplot as plt\n",
    "import seaborn as sns\n",
    "import japanize_matplotlib\n",
    "%matplotlib inline"
   ]
  },
  {
   "cell_type": "code",
   "execution_count": 2,
   "id": "f5a2720c-01f1-443e-b439-cd89370c9b3f",
   "metadata": {},
   "outputs": [
    {
     "data": {
      "text/html": [
       "<div>\n",
       "<style scoped>\n",
       "    .dataframe tbody tr th:only-of-type {\n",
       "        vertical-align: middle;\n",
       "    }\n",
       "\n",
       "    .dataframe tbody tr th {\n",
       "        vertical-align: top;\n",
       "    }\n",
       "\n",
       "    .dataframe thead th {\n",
       "        text-align: right;\n",
       "    }\n",
       "</style>\n",
       "<table border=\"1\" class=\"dataframe\">\n",
       "  <thead>\n",
       "    <tr style=\"text-align: right;\">\n",
       "      <th></th>\n",
       "      <th>ID</th>\n",
       "      <th>section</th>\n",
       "      <th>tenure</th>\n",
       "      <th>overtime</th>\n",
       "    </tr>\n",
       "  </thead>\n",
       "  <tbody>\n",
       "    <tr>\n",
       "      <th>0</th>\n",
       "      <td>10012</td>\n",
       "      <td>Admin</td>\n",
       "      <td>35</td>\n",
       "      <td>34.2</td>\n",
       "    </tr>\n",
       "    <tr>\n",
       "      <th>1</th>\n",
       "      <td>10015</td>\n",
       "      <td>IT</td>\n",
       "      <td>34</td>\n",
       "      <td>42.9</td>\n",
       "    </tr>\n",
       "    <tr>\n",
       "      <th>2</th>\n",
       "      <td>10019</td>\n",
       "      <td>IT</td>\n",
       "      <td>34</td>\n",
       "      <td>38.1</td>\n",
       "    </tr>\n",
       "    <tr>\n",
       "      <th>3</th>\n",
       "      <td>10020</td>\n",
       "      <td>Admin</td>\n",
       "      <td>33</td>\n",
       "      <td>34.7</td>\n",
       "    </tr>\n",
       "    <tr>\n",
       "      <th>4</th>\n",
       "      <td>10022</td>\n",
       "      <td>Admin</td>\n",
       "      <td>33</td>\n",
       "      <td>37.3</td>\n",
       "    </tr>\n",
       "  </tbody>\n",
       "</table>\n",
       "</div>"
      ],
      "text/plain": [
       "      ID section  tenure  overtime\n",
       "0  10012   Admin      35      34.2\n",
       "1  10015      IT      34      42.9\n",
       "2  10019      IT      34      38.1\n",
       "3  10020   Admin      33      34.7\n",
       "4  10022   Admin      33      37.3"
      ]
     },
     "execution_count": 2,
     "metadata": {},
     "output_type": "execute_result"
    }
   ],
   "source": [
    "df = pd.read_csv('data/StaffOvertime.csv')\n",
    "df.head()"
   ]
  },
  {
   "cell_type": "code",
   "execution_count": 3,
   "id": "c3af6090-986f-40fe-a2d3-149afef2b3ca",
   "metadata": {},
   "outputs": [
    {
     "data": {
      "text/plain": [
       "Index(['ID', 'section', 'tenure', 'overtime'], dtype='object')"
      ]
     },
     "execution_count": 3,
     "metadata": {},
     "output_type": "execute_result"
    }
   ],
   "source": [
    "# カラム名（列名）を表示\n",
    "df.columns"
   ]
  },
  {
   "cell_type": "code",
   "execution_count": 4,
   "id": "0e3fecfe-cbf1-4884-91a2-695b1dc3565a",
   "metadata": {},
   "outputs": [
    {
     "data": {
      "text/html": [
       "<div>\n",
       "<style scoped>\n",
       "    .dataframe tbody tr th:only-of-type {\n",
       "        vertical-align: middle;\n",
       "    }\n",
       "\n",
       "    .dataframe tbody tr th {\n",
       "        vertical-align: top;\n",
       "    }\n",
       "\n",
       "    .dataframe thead th {\n",
       "        text-align: right;\n",
       "    }\n",
       "</style>\n",
       "<table border=\"1\" class=\"dataframe\">\n",
       "  <thead>\n",
       "    <tr style=\"text-align: right;\">\n",
       "      <th></th>\n",
       "      <th>ID</th>\n",
       "      <th>tenure</th>\n",
       "      <th>overtime</th>\n",
       "    </tr>\n",
       "  </thead>\n",
       "  <tbody>\n",
       "    <tr>\n",
       "      <th>count</th>\n",
       "      <td>325.000000</td>\n",
       "      <td>325.000000</td>\n",
       "      <td>325.000000</td>\n",
       "    </tr>\n",
       "    <tr>\n",
       "      <th>mean</th>\n",
       "      <td>13727.175385</td>\n",
       "      <td>14.664615</td>\n",
       "      <td>25.542769</td>\n",
       "    </tr>\n",
       "    <tr>\n",
       "      <th>std</th>\n",
       "      <td>4574.771200</td>\n",
       "      <td>8.414135</td>\n",
       "      <td>10.911688</td>\n",
       "    </tr>\n",
       "    <tr>\n",
       "      <th>min</th>\n",
       "      <td>10012.000000</td>\n",
       "      <td>1.000000</td>\n",
       "      <td>1.200000</td>\n",
       "    </tr>\n",
       "    <tr>\n",
       "      <th>25%</th>\n",
       "      <td>12050.000000</td>\n",
       "      <td>8.000000</td>\n",
       "      <td>17.300000</td>\n",
       "    </tr>\n",
       "    <tr>\n",
       "      <th>50%</th>\n",
       "      <td>12135.000000</td>\n",
       "      <td>13.000000</td>\n",
       "      <td>25.900000</td>\n",
       "    </tr>\n",
       "    <tr>\n",
       "      <th>75%</th>\n",
       "      <td>12319.000000</td>\n",
       "      <td>20.000000</td>\n",
       "      <td>33.100000</td>\n",
       "    </tr>\n",
       "    <tr>\n",
       "      <th>max</th>\n",
       "      <td>29556.000000</td>\n",
       "      <td>35.000000</td>\n",
       "      <td>53.700000</td>\n",
       "    </tr>\n",
       "  </tbody>\n",
       "</table>\n",
       "</div>"
      ],
      "text/plain": [
       "                 ID      tenure    overtime\n",
       "count    325.000000  325.000000  325.000000\n",
       "mean   13727.175385   14.664615   25.542769\n",
       "std     4574.771200    8.414135   10.911688\n",
       "min    10012.000000    1.000000    1.200000\n",
       "25%    12050.000000    8.000000   17.300000\n",
       "50%    12135.000000   13.000000   25.900000\n",
       "75%    12319.000000   20.000000   33.100000\n",
       "max    29556.000000   35.000000   53.700000"
      ]
     },
     "execution_count": 4,
     "metadata": {},
     "output_type": "execute_result"
    }
   ],
   "source": [
    "# 量的変数の要約統計量を算出\n",
    "df.describe()"
   ]
  },
  {
   "cell_type": "code",
   "execution_count": 5,
   "id": "eb0ac400-37e3-447c-860c-eece28d14cae",
   "metadata": {},
   "outputs": [
    {
     "data": {
      "text/plain": [
       "IT       120\n",
       "Sales    104\n",
       "Admin    101\n",
       "Name: section, dtype: int64"
      ]
     },
     "execution_count": 5,
     "metadata": {},
     "output_type": "execute_result"
    }
   ],
   "source": [
    "# カテゴリ変数のユニークな要素の個数\n",
    "df['section'].value_counts()"
   ]
  },
  {
   "cell_type": "code",
   "execution_count": 6,
   "id": "1dd973e5-0ffa-4e93-92b7-6e60a00386bb",
   "metadata": {},
   "outputs": [
    {
     "data": {
      "text/plain": [
       "ID            int64\n",
       "section      object\n",
       "tenure        int64\n",
       "overtime    float64\n",
       "dtype: object"
      ]
     },
     "execution_count": 6,
     "metadata": {},
     "output_type": "execute_result"
    }
   ],
   "source": [
    "# データ型を確認\n",
    "df.dtypes"
   ]
  },
  {
   "cell_type": "code",
   "execution_count": 7,
   "id": "403d7c0a-42f1-419c-9bef-51e983f44e9d",
   "metadata": {},
   "outputs": [
    {
     "data": {
      "text/plain": [
       "<AxesSubplot:xlabel='tenure', ylabel='Count'>"
      ]
     },
     "execution_count": 7,
     "metadata": {},
     "output_type": "execute_result"
    },
    {
     "data": {
      "image/png": "[encoded data removed]",
      "text/plain": [
       "<Figure size 720x360 with 2 Axes>"
      ]
     },
     "metadata": {
      "needs_background": "light"
     },
     "output_type": "display_data"
    }
   ],
   "source": [
    "# 今回の目的変数、説明変数についてそれぞれヒストグラムを描画する\n",
    "fig, ax = plt.subplots(1, 2, figsize=(10, 5))\n",
    "sns.histplot(df['overtime'], ax=ax[0])\n",
    "sns.histplot(df['tenure'], ax=ax[1], color='orange')"
   ]
  },
  {
   "cell_type": "code",
   "execution_count": 8,
   "id": "ac85c962-b54a-4dbe-95e4-c8544b0a8a1f",
   "metadata": {},
   "outputs": [
    {
     "data": {
      "text/plain": [
       "Text(0, 0.5, '残業時間')"
      ]
     },
     "execution_count": 8,
     "metadata": {},
     "output_type": "execute_result"
    },
    {
     "data": {
      "image/png": "[encoded data removed]",
      "text/plain": [
       "<Figure size 432x432 with 1 Axes>"
      ]
     },
     "metadata": {
      "needs_background": "light"
     },
     "output_type": "display_data"
    }
   ],
   "source": [
    "plt.figure(figsize=(6, 6))\n",
    "sns.scatterplot(x=df['tenure'], y=df['overtime'])\n",
    "plt.title('勤続年数と残業時間の散布図')\n",
    "plt.xlabel('勤続年数')\n",
    "plt.ylabel('残業時間')"
   ]
  },
  {
   "cell_type": "markdown",
   "id": "3dd3d628-2df2-4c12-97c5-492b17bfd355",
   "metadata": {},
   "source": [
    "## 単回帰モデルの式\n",
    "$$\n",
    "y = b_0 + b_1 x　 (ただし、yは残業時間、xを勤続年数とする)\n",
    "$$"
   ]
  },
  {
   "cell_type": "code",
   "execution_count": 9,
   "id": "2afb875a-34e8-4b68-aa5e-293a4c9b770e",
   "metadata": {},
   "outputs": [
    {
     "data": {
      "text/plain": [
       "LinearRegression()"
      ]
     },
     "execution_count": 9,
     "metadata": {},
     "output_type": "execute_result"
    }
   ],
   "source": [
    "# 今回は、sklearnを利用する（statsmodelでも可）\n",
    "lr = LinearRegression()\n",
    "\n",
    "# 今回は全てのデータを使う(本来はNG)\n",
    "x = df[['tenure']]\n",
    "y = df['overtime']\n",
    "\n",
    "lr.fit(x, y)"
   ]
  },
  {
   "cell_type": "code",
   "execution_count": 10,
   "id": "fc490476-5ee0-445f-9d05-f283a9ac28e8",
   "metadata": {},
   "outputs": [
    {
     "data": {
      "text/plain": [
       "'回帰係数：0.3512209533636109'"
      ]
     },
     "metadata": {},
     "output_type": "display_data"
    },
    {
     "data": {
      "text/plain": [
       "'切片：20.392249034673938'"
      ]
     },
     "metadata": {},
     "output_type": "display_data"
    },
    {
     "data": {
      "text/plain": [
       "'決定係数：0.07334929118074629'"
      ]
     },
     "metadata": {},
     "output_type": "display_data"
    }
   ],
   "source": [
    "# 学習したモデルの情報を表示\n",
    "display(f'回帰係数：{lr.coef_[0]}')\n",
    "display(f'切片：{lr.intercept_}')\n",
    "\n",
    "display(f'決定係数：{lr.score(x, y)}')"
   ]
  },
  {
   "cell_type": "code",
   "execution_count": 11,
   "id": "8152f490-89a8-4903-8b05-cc7959f40c3f",
   "metadata": {},
   "outputs": [],
   "source": [
    "# 学習したモデルに説明変数をいれ、予測値を算出\n",
    "pred_y = lr.predict(x)"
   ]
  },
  {
   "cell_type": "code",
   "execution_count": 12,
   "id": "5d7052a0-a697-4c4a-9771-8c46e624be00",
   "metadata": {},
   "outputs": [
    {
     "data": {
      "text/plain": [
       "Text(0, 0.5, '残業時間')"
      ]
     },
     "execution_count": 12,
     "metadata": {},
     "output_type": "execute_result"
    },
    {
     "data": {
      "image/png": "[encoded data removed]",
      "text/plain": [
       "<Figure size 432x432 with 1 Axes>"
      ]
     },
     "metadata": {
      "needs_background": "light"
     },
     "output_type": "display_data"
    }
   ],
   "source": [
    "plt.figure(figsize=(6, 6))\n",
    "sns.scatterplot(x=df['tenure'], y=df['overtime'], alpha=0.5)\n",
    "sns.lineplot(x=df['tenure'], y=pred_y, color='red')\n",
    "\n",
    "plt.title('勤続年数と残業時間の散布図と回帰式線')\n",
    "plt.xlabel('勤続年数')\n",
    "plt.ylabel('残業時間')"
   ]
  },
  {
   "cell_type": "code",
   "execution_count": null,
   "id": "ef0f970a-7ed4-4a3f-bcf8-b25e35281d87",
   "metadata": {},
   "outputs": [],
   "source": []
  }
 ],
 "metadata": {
  "kernelspec": {
   "display_name": "default:Python",
   "language": "python",
   "name": "conda-env-default-py"
  },
  "language_info": {
   "codemirror_mode": {
    "name": "ipython",
    "version": 3
   },
   "file_extension": ".py",
   "mimetype": "text/x-python",
   "name": "python",
   "nbconvert_exporter": "python",
   "pygments_lexer": "ipython3",
   "version": "3.9.10"
  }
 },
 "nbformat": 4,
 "nbformat_minor": 5
}

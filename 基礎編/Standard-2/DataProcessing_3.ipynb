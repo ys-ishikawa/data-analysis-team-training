{
 "cells": [
  {
   "cell_type": "markdown",
   "id": "002757f1-133f-431d-9dce-183463a28ef6",
   "metadata": {},
   "source": [
    "# データ加工編　No.3"
   ]
  },
  {
   "cell_type": "code",
   "execution_count": 4,
   "id": "99328bef-5393-49e2-878d-780050020365",
   "metadata": {},
   "outputs": [],
   "source": [
    "# 最初に実行すること\n",
    "# 該当ノートブックに必要ないものも含まれているので注意\n",
    "\n",
    "import os\n",
    "import warnings\n",
    "\n",
    "import pandas as pd\n",
    "import numpy as np\n",
    "import matplotlib.pyplot\n",
    "import seaborn as sns\n",
    "import japanize_matplotlib\n",
    "\n",
    "from datetime import datetime, date\n",
    "from dateutil.relativedelta import relativedelta\n",
    "import math\n",
    "\n",
    "from sklearn import preprocessing\n",
    "from sklearn.impute import SimpleImputer\n",
    "from sklearn.model_selection import train_test_split\n",
    "from sklearn.model_selection import TimeSeriesSplit\n",
    "\n",
    "from imblearn.under_sampling import RandomUnderSampler"
   ]
  },
  {
   "cell_type": "code",
   "execution_count": 5,
   "id": "82af67f2-bf7b-427c-b1b8-a1867f2f13ec",
   "metadata": {},
   "outputs": [],
   "source": [
    "warnings.filterwarnings('ignore')\n",
    "\n",
    "# データの格納先が異なる場合は変更し、実行すること\n",
    "df_customer = pd.read_csv('data/customer.csv')\n",
    "df_category = pd.read_csv('data/category.csv')\n",
    "df_product = pd.read_csv('data/product.csv')\n",
    "df_receipt = pd.read_csv('data/receipt.csv')\n",
    "df_store = pd.read_csv('data/store.csv')\n",
    "df_geocode = pd.read_csv('data/geocode.csv')"
   ]
  },
  {
   "cell_type": "markdown",
   "id": "be6cb886-41a7-4854-b8ba-419bd6183106",
   "metadata": {},
   "source": [
    "## 課題 41〜60"
   ]
  },
  {
   "cell_type": "markdown",
   "id": "795c97b1-d198-46f2-95af-0f68a1a76ea4",
   "metadata": {},
   "source": [
    "---\n",
    "41. レシート明細データ（df_receipt）の売上金額（amount）を日付（sales_ymd）ごとに集計し、前回売上があった日からの売上金額増減を計算し、その結果を10件表示してください。"
   ]
  },
  {
   "cell_type": "code",
   "execution_count": null,
   "id": "a1b6d22c-6935-4a6d-adf2-f5a01744648c",
   "metadata": {},
   "outputs": [],
   "source": []
  },
  {
   "cell_type": "markdown",
   "id": "d4263b2d-244a-4341-9dfe-ac69be75dcd5",
   "metadata": {},
   "source": [
    "---\n",
    "42. レシート明細データ（df_receipt）の売上金額（amount）を日付（sales_ymd）ごとに集計し、各日付のデータに対し、前回、前々回、3回前に売上があった日のデータを結合してください。そして結果を10件表示すること。"
   ]
  },
  {
   "cell_type": "code",
   "execution_count": null,
   "id": "512581bd-2f8f-4362-8553-b3382bd624d9",
   "metadata": {},
   "outputs": [],
   "source": []
  },
  {
   "cell_type": "markdown",
   "id": "6d0e26a6-d27e-4948-b486-a5f3bccaaae1",
   "metadata": {},
   "source": [
    "---\n",
    "43. レシート明細データ（df_receipt）と顧客データ（df_customer）を結合し、性別コード（gender_cd）と年代（ageから計算）ごとに売上金額（amount）を合計した売上サマリデータを作成してください。性別コードは0が男性、1が女性、9が不明を表すものとする。ただし、項目構成は年代、女性の売上金額、男性の売上金額、性別不明の売上金額の4項目とすること（縦に年代、横に性別のクロス集計）。また、年代は10歳ごとの階級とすること。"
   ]
  },
  {
   "cell_type": "code",
   "execution_count": null,
   "id": "954c8f6d-090d-4727-80b3-819e567f51c5",
   "metadata": {},
   "outputs": [],
   "source": []
  },
  {
   "cell_type": "markdown",
   "id": "663b15d1-bd86-4ee4-997b-56b0cc45df17",
   "metadata": {},
   "source": [
    "---\n",
    "44.  上記（43.）で作成した売上サマリデータ（df_sales_summary）は性別の売上を横持ちさせたものであった。このデータから性別を縦持ちさせ、年代、性別コード、売上金額の3項目に変換してください。ただし、性別コードは男性を\"00\"、女性を\"01\"、不明を\"99\"とする。"
   ]
  },
  {
   "cell_type": "code",
   "execution_count": null,
   "id": "59eb4e8e-462c-4380-96b1-e7f599bff564",
   "metadata": {},
   "outputs": [],
   "source": []
  },
  {
   "cell_type": "markdown",
   "id": "56a0255a-a839-4d45-a697-b9c16bb6c418",
   "metadata": {},
   "source": [
    "---\n",
    "45. 顧客データ（df_customer）の生年月日（birth_day）は日付型でデータを保有している。これをYYYYMMDD形式の文字列に変換し、顧客ID（customer_id）とともに10件表示してください。"
   ]
  },
  {
   "cell_type": "code",
   "execution_count": null,
   "id": "8f0aa252-bb90-4868-93b2-1edd7c3a5caf",
   "metadata": {},
   "outputs": [],
   "source": []
  },
  {
   "cell_type": "markdown",
   "id": "e54abc35-357d-4589-b1f3-1922be04373a",
   "metadata": {},
   "source": [
    "---\n",
    "46. 顧客データ（df_customer）の申し込み日（application_date）はYYYYMMDD形式の文字列型でデータを保有している。これを日付型に変換し、顧客ID（customer_id）とともに10件表示してください。"
   ]
  },
  {
   "cell_type": "code",
   "execution_count": null,
   "id": "7229a463-d0f4-4f4e-8462-c68984a990c8",
   "metadata": {},
   "outputs": [],
   "source": []
  },
  {
   "cell_type": "markdown",
   "id": "01f66498-a4c0-4606-8edc-50d48763dd08",
   "metadata": {},
   "source": [
    "---\n",
    "47. レシート明細データ（df_receipt）の売上エポック秒（sales_ymd）は数値型(int64)でデータを保有している。これを日付型に変換し、レシート番号(receipt_no)、レシートサブ番号（receipt_sub_no）とともに10件表示してください。"
   ]
  },
  {
   "cell_type": "code",
   "execution_count": null,
   "id": "365e46e8-2835-476c-b185-acd0f130dfbd",
   "metadata": {},
   "outputs": [],
   "source": []
  },
  {
   "cell_type": "markdown",
   "id": "9763a9cb-2a79-4a09-95ba-8631d3cb3f45",
   "metadata": {},
   "source": [
    "---\n",
    "48. レシート明細データ（df_receipt）の売上エポック秒（sales_epoch）は数値型のUNIX秒でデータを保有している。これを日付型に変換し、レシート番号(receipt_no)、レシートサブ番号（receipt_sub_no）とともに10件表示してください。"
   ]
  },
  {
   "cell_type": "code",
   "execution_count": null,
   "id": "149f1b34-bdec-40df-8dfc-c53b469c7e05",
   "metadata": {},
   "outputs": [],
   "source": []
  },
  {
   "cell_type": "markdown",
   "id": "b659f4ca-5026-42f4-9853-9331b0e69155",
   "metadata": {},
   "source": [
    "---\n",
    "49. レシート明細データ（df_receipt）の売上エポック秒（sales_epoch）を日付型に変換し、「年」だけ取り出してレシート番号(receipt_no)、レシートサブ番号（receipt_sub_no）とともに10件表示してください。"
   ]
  },
  {
   "cell_type": "code",
   "execution_count": null,
   "id": "0d0ab901-39a1-48c5-9b62-7a197248af9a",
   "metadata": {},
   "outputs": [],
   "source": []
  },
  {
   "cell_type": "markdown",
   "id": "58cac294-7ff7-47e1-9685-bf42849728d3",
   "metadata": {},
   "source": [
    "---\n",
    "50. レシート明細データ（df_receipt）の売上エポック秒（sales_epoch）を日付型に変換し、「月」だけ取り出してレシート番号(receipt_no)、レシートサブ番号（receipt_sub_no）とともに10件表示してください。なお、「月」は0埋め2桁で取り出すこと。"
   ]
  },
  {
   "cell_type": "code",
   "execution_count": null,
   "id": "8dc68178-44c3-4688-b2e7-5c65ddd21329",
   "metadata": {},
   "outputs": [],
   "source": []
  },
  {
   "cell_type": "markdown",
   "id": "68587214-802d-4b54-aa91-7ea4eed14e2d",
   "metadata": {},
   "source": [
    "---\n",
    "51.　レシート明細データ（df_receipt）の売上エポック秒を日付型に変換し、「日」だけ取り出してレシート番号(receipt_no)、レシートサブ番号（receipt_sub_no）とともに10件表示してください。なお、「日」は0埋め2桁で取り出すこと。"
   ]
  },
  {
   "cell_type": "code",
   "execution_count": null,
   "id": "b581b286-af9c-48e0-b98b-512328d2e778",
   "metadata": {},
   "outputs": [],
   "source": []
  },
  {
   "cell_type": "markdown",
   "id": "8080ce67-571e-422b-936b-d68674fd1830",
   "metadata": {},
   "source": [
    "---\n",
    "52.　レシート明細データ（df_receipt）の売上金額（amount）を顧客ID（customer_id）ごとに合計の上、売上金額合計に対して2,000円以下を0、2,000円より大きい金額を1に二値化し、顧客ID、売上金額合計とともに10件表示してください。ただし、顧客IDが\"Z\"から始まるのものは非会員を表すため、除外して計算すること。"
   ]
  },
  {
   "cell_type": "code",
   "execution_count": null,
   "id": "8b9965c9-1d4e-488e-b5b5-2ff279494d78",
   "metadata": {},
   "outputs": [],
   "source": []
  },
  {
   "cell_type": "markdown",
   "id": "b5d0b65d-1e65-4d84-8ebc-58256fc950c7",
   "metadata": {},
   "source": [
    "---\n",
    "53. 顧客データ（df_customer）の郵便番号（postal_cd）に対し、東京（先頭3桁が100〜209のもの）を1、それ以外のものを0に二値化してください。さらにレシート明細データ（df_receipt）と結合し、全期間において売上実績のある顧客数を、作成した二値ごとにカウントせよ。"
   ]
  },
  {
   "cell_type": "code",
   "execution_count": null,
   "id": "b21c9983-2faf-44d4-b698-b5940a18e779",
   "metadata": {},
   "outputs": [],
   "source": []
  },
  {
   "cell_type": "markdown",
   "id": "b50d5a60-4cd9-4e36-884c-29574af03258",
   "metadata": {},
   "source": [
    "---\n",
    "54. : 顧客データ（df_customer）の住所（address）は、埼玉県、千葉県、東京都、神奈川県のいずれかとなっている。都道府県毎にコード値を作成し、顧客ID、住所とともに10件表示してください。値は埼玉県を11、千葉県を12、東京都を13、神奈川県を14とすること。"
   ]
  },
  {
   "cell_type": "code",
   "execution_count": null,
   "id": "ed159cd1-019c-494e-8172-ca4d5bab7661",
   "metadata": {},
   "outputs": [],
   "source": []
  },
  {
   "cell_type": "markdown",
   "id": "ab94c7f0-7208-4948-ae24-af781add5a21",
   "metadata": {},
   "source": [
    "---\n",
    "55. レシート明細（df_receipt）データの売上金額（amount）を顧客ID（customer_id）ごとに合計し、その合計金額の四分位点を求めてください。その上で、顧客ごとの売上金額合計に対して以下の基準でカテゴリ値を作成し、顧客ID、売上金額合計とともに10件表示してください。カテゴリ値は順に1〜4とする。\n",
    "\n",
    "- 最小値以上第1四分位未満 ・・・ 1を付与\n",
    "- 第1四分位以上第2四分位未満 ・・・ 2を付与\n",
    "- 第2四分位以上第3四分位未満 ・・・ 3を付与\n",
    "- 第3四分位以上 ・・・ 4を付与"
   ]
  },
  {
   "cell_type": "code",
   "execution_count": null,
   "id": "9a9ed1ae-dfb2-41a6-8281-3816307df183",
   "metadata": {},
   "outputs": [],
   "source": []
  },
  {
   "cell_type": "markdown",
   "id": "2d1214a4-f03b-4f4e-9ed3-4b11d5c1c330",
   "metadata": {},
   "source": [
    "---\n",
    "56. 顧客データ（df_customer）の年齢（age）をもとに10歳刻みで年代を算出し、顧客ID（customer_id）、生年月日（birth_day）とともに10件表示してください。ただし、60歳以上は全て60歳代とすること。年代を表すカテゴリ名は任意とする。"
   ]
  },
  {
   "cell_type": "code",
   "execution_count": null,
   "id": "a8534ecd-954f-4f10-939e-db7d175fa914",
   "metadata": {},
   "outputs": [],
   "source": []
  },
  {
   "cell_type": "markdown",
   "id": "9eea0ee5-2ba7-41a9-a2b2-7cd31f7d70b4",
   "metadata": {},
   "source": [
    "---\n",
    "57. 56.の抽出結果と性別コード（gender_cd）により、新たに性別×年代の組み合わせを表すカテゴリデータを作成し、10件表示してください。組み合わせを表すカテゴリの値は任意とする。"
   ]
  },
  {
   "cell_type": "code",
   "execution_count": null,
   "id": "2ba3e650-2d17-4014-949d-e3225fe12972",
   "metadata": {},
   "outputs": [],
   "source": []
  },
  {
   "cell_type": "markdown",
   "id": "0b5071f5-d5a4-4b22-81bd-11b6569a17c4",
   "metadata": {},
   "source": [
    "58. 顧客データ（df_customer）の性別コード（gender_cd）をダミー変数化し、顧客ID（customer_id）とともに10件表示してください。"
   ]
  },
  {
   "cell_type": "code",
   "execution_count": null,
   "id": "5104e550-248f-4103-8181-1fcfff8238fe",
   "metadata": {},
   "outputs": [],
   "source": []
  },
  {
   "cell_type": "markdown",
   "id": "38f19e2e-b76a-495a-af46-d8f523fa8802",
   "metadata": {},
   "source": [
    "---\n",
    "59. レシート明細データ（df_receipt）の売上金額（amount）を顧客ID（customer_id）ごとに合計し、売上金額合計を平均0、標準偏差1に標準化して顧客ID、売上金額合計とともに10件表示してください。標準化に使用する標準偏差は、分散の平方根、もしくは不偏分散の平方根のどちらでも良いものとする。ただし、顧客IDが\"Z\"から始まるのものは非会員を表すため、除外して計算すること。\n",
    "\n",
    "> TIPS:\n",
    "> 標準化について確認してください。今回は、scikit-learnのpreprocessingに含まれるStandardScalerを使ってください。\n",
    "> 「標準化に使用する標準偏差は、分散の平方根、もしくは不偏分散の平方根のどちらでも良いものとする。」は、無視して良いとする。\n",
    "> 余力があれば、pandas, Numpyを使って計算してみてください。この場合は、「標準化に使用する標準偏差は、分散の平方根、もしくは不偏分散の平方根のどちらでも良いものとする。」を考慮する。"
   ]
  },
  {
   "cell_type": "code",
   "execution_count": null,
   "id": "7c7171e6-fdf8-4d3a-ae11-decb6b03cb5a",
   "metadata": {},
   "outputs": [],
   "source": []
  },
  {
   "cell_type": "markdown",
   "id": "2edeb027-462f-433c-a749-07d52f22aa3c",
   "metadata": {},
   "source": [
    "---\n",
    "60. レシート明細データ（df_receipt）の売上金額（amount）を顧客ID（customer_id）ごとに合計し、売上金額合計を最小値0、最大値1に正規化して顧客ID、売上金額合計とともに10件表示してください。ただし、顧客IDが\"Z\"から始まるのものは非会員を表すため、除外して計算すること。\n",
    "\n",
    "> TIPS:\n",
    "> 正規化について確認してください。今回は、scikit-learnのpreprocessingに含まれるMinMaxScalerを使ってください。\n",
    "> 余力があれば、pandas, Numpyを使って計算してみてください。"
   ]
  },
  {
   "cell_type": "code",
   "execution_count": null,
   "id": "4c2b3c64-d011-4889-a047-4da67744a454",
   "metadata": {},
   "outputs": [],
   "source": []
  }
 ],
 "metadata": {
  "kernelspec": {
   "display_name": "default:Python",
   "language": "python",
   "name": "conda-env-default-py"
  },
  "language_info": {
   "codemirror_mode": {
    "name": "ipython",
    "version": 3
   },
   "file_extension": ".py",
   "mimetype": "text/x-python",
   "name": "python",
   "nbconvert_exporter": "python",
   "pygments_lexer": "ipython3",
   "version": "3.9.10"
  }
 },
 "nbformat": 4,
 "nbformat_minor": 5
}

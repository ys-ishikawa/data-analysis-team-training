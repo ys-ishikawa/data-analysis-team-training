{
 "cells": [
  {
   "cell_type": "markdown",
   "id": "002757f1-133f-431d-9dce-183463a28ef6",
   "metadata": {},
   "source": [
    "# データ加工編　No.１"
   ]
  },
  {
   "cell_type": "code",
   "execution_count": 20,
   "id": "99328bef-5393-49e2-878d-780050020365",
   "metadata": {},
   "outputs": [],
   "source": [
    "# 最初に実行すること\n",
    "# 該当ノートブックに必要ないものも含まれているの注意\n",
    "\n",
    "import os\n",
    "import warnings\n",
    "\n",
    "import pandas as pd\n",
    "import numpy as np\n",
    "import matplotlib.pyplot\n",
    "import seaborn as sns\n",
    "import japanize_matplotlib\n",
    "\n",
    "from datetime import datetime, date\n",
    "from dateutil.relativedelta import relativedelta\n",
    "import math\n",
    "\n",
    "from sklearn import preprocessing\n",
    "from sklearn.impute import SimpleImputer\n",
    "from sklearn.model_selection import train_test_split\n",
    "from sklearn.model_selection import TimeSeriesSplit\n",
    "\n",
    "from imblearn.under_sampling import RandomUnderSampler"
   ]
  },
  {
   "cell_type": "code",
   "execution_count": 22,
   "id": "82af67f2-bf7b-427c-b1b8-a1867f2f13ec",
   "metadata": {},
   "outputs": [],
   "source": [
    "warnings.filterwarnings('ignore')\n",
    "\n",
    "# データの格納先が異なる場合は変更し、実行すること\n",
    "df_customer = pd.read_csv('data/customer.csv')\n",
    "df_category = pd.read_csv('data/category.csv')\n",
    "df_product = pd.read_csv('data/product.csv')\n",
    "df_receipt = pd.read_csv('data/receipt.csv')\n",
    "df_store = pd.read_csv('data/store.csv')\n",
    "df_geocode = pd.read_csv('data/geocode.csv')"
   ]
  },
  {
   "cell_type": "markdown",
   "id": "be6cb886-41a7-4854-b8ba-419bd6183106",
   "metadata": {},
   "source": [
    "## 課題 1〜20"
   ]
  },
  {
   "cell_type": "markdown",
   "id": "795c97b1-d198-46f2-95af-0f68a1a76ea4",
   "metadata": {},
   "source": [
    "---\n",
    "1.  レシート明細データ（df_receipt）から全項目の先頭10件を表示し、どのようなデータを保有しているか確認してください。"
   ]
  },
  {
   "cell_type": "code",
   "execution_count": null,
   "id": "a1b6d22c-6935-4a6d-adf2-f5a01744648c",
   "metadata": {},
   "outputs": [],
   "source": []
  },
  {
   "cell_type": "markdown",
   "id": "d4263b2d-244a-4341-9dfe-ac69be75dcd5",
   "metadata": {},
   "source": [
    "---\n",
    "2. レシート明細データ（df_receipt）から売上年月日（sales_ymd）、顧客ID（customer_id）、商品コード（product_cd）、売上金額（amount）の順に列を指定し、10件表示してください。"
   ]
  },
  {
   "cell_type": "code",
   "execution_count": null,
   "id": "512581bd-2f8f-4362-8553-b3382bd624d9",
   "metadata": {},
   "outputs": [],
   "source": []
  },
  {
   "cell_type": "markdown",
   "id": "6d0e26a6-d27e-4948-b486-a5f3bccaaae1",
   "metadata": {},
   "source": [
    "---\n",
    "3. レシート明細データ（df_receipt）から売上年月日（sales_ymd）、顧客ID（customer_id）、商品コード（product_cd）、売上金額（amount）の順に列を指定し、10件表示してください。ただし、sales_ymd を sales_date に項目名を変更しながら抽出すること。"
   ]
  },
  {
   "cell_type": "code",
   "execution_count": null,
   "id": "954c8f6d-090d-4727-80b3-819e567f51c5",
   "metadata": {},
   "outputs": [],
   "source": []
  },
  {
   "cell_type": "markdown",
   "id": "663b15d1-bd86-4ee4-997b-56b0cc45df17",
   "metadata": {},
   "source": [
    "---\n",
    "4. レシート明細データ（df_receipt）から売上日（sales_ymd）、顧客ID（customer_id）、商品コード（product_cd）、売上金額（amount）の順に列を指定し、以下の条件を満たすデータを抽出してください。\n",
    "- 顧客ID（customer_id）が\"CS018205000001\""
   ]
  },
  {
   "cell_type": "code",
   "execution_count": null,
   "id": "59eb4e8e-462c-4380-96b1-e7f599bff564",
   "metadata": {},
   "outputs": [],
   "source": []
  },
  {
   "cell_type": "markdown",
   "id": "56a0255a-a839-4d45-a697-b9c16bb6c418",
   "metadata": {},
   "source": [
    "---\n",
    "5. レシート明細データ（df_receipt）から売上日（sales_ymd）、顧客ID（customer_id）、商品コード（product_cd）、売上金額（amount）の順に列を指定し、以下の全ての条件を満たすデータを抽出してください。\n",
    " - 顧客ID（customer_id）が\"CS018205000001\"\n",
    " - 売上金額（amount）が1,000以上"
   ]
  },
  {
   "cell_type": "code",
   "execution_count": null,
   "id": "8f0aa252-bb90-4868-93b2-1edd7c3a5caf",
   "metadata": {},
   "outputs": [],
   "source": []
  },
  {
   "cell_type": "markdown",
   "id": "e54abc35-357d-4589-b1f3-1922be04373a",
   "metadata": {},
   "source": [
    "---\n",
    "6. レシート明細データ（df_receipt）から売上日（sales_ymd）、顧客ID（customer_id）、商品コード（product_cd）、売上数量（quantity）、売上金額（amount）の順に列を指定し、以下の全ての条件を満たすデータを抽出してください。\n",
    " - 顧客ID（customer_id）が\"CS018205000001\"\n",
    " - 売上金額（amount）が1,000以上または売上数量（quantity）が5以上"
   ]
  },
  {
   "cell_type": "code",
   "execution_count": null,
   "id": "7229a463-d0f4-4f4e-8462-c68984a990c8",
   "metadata": {},
   "outputs": [],
   "source": []
  },
  {
   "cell_type": "markdown",
   "id": "01f66498-a4c0-4606-8edc-50d48763dd08",
   "metadata": {},
   "source": [
    "---\n",
    "7. レシート明細データ（df_receipt）から売上日（sales_ymd）、顧客ID（customer_id）、商品コード（product_cd）、売上金額（amount）の順に列を指定し、以下の全ての条件を満たすデータを抽出してください。\n",
    " - 顧客ID（customer_id）が\"CS018205000001\"\n",
    " - 売上金額（amount）が1,000以上2,000以下"
   ]
  },
  {
   "cell_type": "code",
   "execution_count": null,
   "id": "365e46e8-2835-476c-b185-acd0f130dfbd",
   "metadata": {},
   "outputs": [],
   "source": []
  },
  {
   "cell_type": "markdown",
   "id": "9763a9cb-2a79-4a09-95ba-8631d3cb3f45",
   "metadata": {},
   "source": [
    "---\n",
    "8. レシート明細データ（df_receipt）から売上日（sales_ymd）、顧客ID（customer_id）、商品コード（product_cd）、売上金額（amount）の順に列を指定し、以下の全ての条件を満たすデータを抽出してください。\n",
    " - 顧客ID（customer_id）が\"CS018205000001\"\n",
    " - 商品コード（product_cd）が\"P071401019\"以外"
   ]
  },
  {
   "cell_type": "code",
   "execution_count": null,
   "id": "149f1b34-bdec-40df-8dfc-c53b469c7e05",
   "metadata": {},
   "outputs": [],
   "source": []
  },
  {
   "cell_type": "markdown",
   "id": "b659f4ca-5026-42f4-9853-9331b0e69155",
   "metadata": {},
   "source": [
    "---\n",
    "9. 以下の処理において、出力結果を変えずにORをANDに書き換えてください。\n",
    "\n",
    "    `df_store.query('not(prefecture_cd == \"13\" | floor_area > 900)')`"
   ]
  },
  {
   "cell_type": "code",
   "execution_count": null,
   "id": "0d0ab901-39a1-48c5-9b62-7a197248af9a",
   "metadata": {},
   "outputs": [],
   "source": []
  },
  {
   "cell_type": "markdown",
   "id": "58cac294-7ff7-47e1-9685-bf42849728d3",
   "metadata": {},
   "source": [
    "---\n",
    "10. 店舗データ（df_store）から、店舗コード（store_cd）が\"S14\"で始まるものだけ全項目抽出し、10件表示してください。"
   ]
  },
  {
   "cell_type": "code",
   "execution_count": null,
   "id": "8dc68178-44c3-4688-b2e7-5c65ddd21329",
   "metadata": {},
   "outputs": [],
   "source": []
  },
  {
   "cell_type": "markdown",
   "id": "68587214-802d-4b54-aa91-7ea4eed14e2d",
   "metadata": {},
   "source": [
    "---\n",
    "11. 顧客データ（df_customer）から顧客ID（customer_id）の末尾が1のものだけ全項目抽出し、10件表示してください"
   ]
  },
  {
   "cell_type": "code",
   "execution_count": null,
   "id": "b581b286-af9c-48e0-b98b-512328d2e778",
   "metadata": {},
   "outputs": [],
   "source": []
  },
  {
   "cell_type": "markdown",
   "id": "8080ce67-571e-422b-936b-d68674fd1830",
   "metadata": {},
   "source": [
    "---\n",
    "12. 店舗データ（df_store）から、住所 (address) に\"横浜市\"が含まれるものだけ全項目表示してください。"
   ]
  },
  {
   "cell_type": "code",
   "execution_count": null,
   "id": "8b9965c9-1d4e-488e-b5b5-2ff279494d78",
   "metadata": {},
   "outputs": [],
   "source": []
  },
  {
   "cell_type": "markdown",
   "id": "b5d0b65d-1e65-4d84-8ebc-58256fc950c7",
   "metadata": {},
   "source": [
    "---\n",
    "13. 顧客データ（df_customer）から、ステータスコード（status_cd）の先頭がアルファベットのA〜Fで始まるデータを全項目抽出し、10件表示してください。"
   ]
  },
  {
   "cell_type": "code",
   "execution_count": null,
   "id": "b21c9983-2faf-44d4-b698-b5940a18e779",
   "metadata": {},
   "outputs": [],
   "source": []
  },
  {
   "cell_type": "markdown",
   "id": "b50d5a60-4cd9-4e36-884c-29574af03258",
   "metadata": {},
   "source": [
    "---\n",
    "14. 顧客データ（df_customer）から、ステータスコード（status_cd）の末尾が数字の1〜9で終わるデータを全項目抽出し、10件表示してください。"
   ]
  },
  {
   "cell_type": "code",
   "execution_count": null,
   "id": "ed159cd1-019c-494e-8172-ca4d5bab7661",
   "metadata": {},
   "outputs": [],
   "source": []
  },
  {
   "cell_type": "markdown",
   "id": "ab94c7f0-7208-4948-ae24-af781add5a21",
   "metadata": {},
   "source": [
    "---\n",
    "15. 顧客データ（df_customer）から、ステータスコード（status_cd）の先頭がアルファベットのA〜Fで始まり、末尾が数字の1〜9で終わるデータを全項目抽出し、10件表示してください。"
   ]
  },
  {
   "cell_type": "code",
   "execution_count": null,
   "id": "9a9ed1ae-dfb2-41a6-8281-3816307df183",
   "metadata": {},
   "outputs": [],
   "source": []
  },
  {
   "cell_type": "markdown",
   "id": "2d1214a4-f03b-4f4e-9ed3-4b11d5c1c330",
   "metadata": {},
   "source": [
    "---\n",
    "16. 店舗データ（df_store）から、電話番号（tel_no）が3桁-3桁-4桁のデータを全項目表示してください。"
   ]
  },
  {
   "cell_type": "code",
   "execution_count": null,
   "id": "a8534ecd-954f-4f10-939e-db7d175fa914",
   "metadata": {},
   "outputs": [],
   "source": []
  },
  {
   "cell_type": "markdown",
   "id": "9eea0ee5-2ba7-41a9-a2b2-7cd31f7d70b4",
   "metadata": {},
   "source": [
    "---\n",
    "17. 顧客データ（df_customer）を生年月日（birth_day）で高齢順にソートし、先頭から全項目を10件表示してください。"
   ]
  },
  {
   "cell_type": "code",
   "execution_count": null,
   "id": "2ba3e650-2d17-4014-949d-e3225fe12972",
   "metadata": {},
   "outputs": [],
   "source": []
  },
  {
   "cell_type": "markdown",
   "id": "0b5071f5-d5a4-4b22-81bd-11b6569a17c4",
   "metadata": {},
   "source": [
    "18. 顧客データ（df_customer）を生年月日（birth_day）で若い順にソートし、先頭から全項目を10件表示してください。"
   ]
  },
  {
   "cell_type": "code",
   "execution_count": null,
   "id": "5104e550-248f-4103-8181-1fcfff8238fe",
   "metadata": {},
   "outputs": [],
   "source": []
  },
  {
   "cell_type": "markdown",
   "id": "38f19e2e-b76a-495a-af46-d8f523fa8802",
   "metadata": {},
   "source": [
    "---\n",
    "19. レシート明細データ（df_receipt）に対し、1件あたりの売上金額（amount）が高い順にランクを付与し、先頭から10件表示してください。項目は顧客ID（customer_id）、売上金額（amount）、付与したランクを表示させること。なお、売上金額（amount）が等しい場合は同一順位を付与するものとする。"
   ]
  },
  {
   "cell_type": "code",
   "execution_count": null,
   "id": "7c7171e6-fdf8-4d3a-ae11-decb6b03cb5a",
   "metadata": {},
   "outputs": [],
   "source": []
  },
  {
   "cell_type": "markdown",
   "id": "2edeb027-462f-433c-a749-07d52f22aa3c",
   "metadata": {},
   "source": [
    "---\n",
    "20. レシート明細データ（df_receipt）に対し、1件あたりの売上金額（amount）が高い順にランクを付与し、先頭から10件表示してください。項目は顧客ID（customer_id）、売上金額（amount）、付与したランクを表示させること。なお、売上金額（amount）が等しい場合でも別順位を付与すること。"
   ]
  },
  {
   "cell_type": "code",
   "execution_count": null,
   "id": "4c2b3c64-d011-4889-a047-4da67744a454",
   "metadata": {},
   "outputs": [],
   "source": []
  }
 ],
 "metadata": {
  "kernelspec": {
   "display_name": "default:Python",
   "language": "python",
   "name": "conda-env-default-py"
  },
  "language_info": {
   "codemirror_mode": {
    "name": "ipython",
    "version": 3
   },
   "file_extension": ".py",
   "mimetype": "text/x-python",
   "name": "python",
   "nbconvert_exporter": "python",
   "pygments_lexer": "ipython3",
   "version": "3.9.10"
  }
 },
 "nbformat": 4,
 "nbformat_minor": 5
}

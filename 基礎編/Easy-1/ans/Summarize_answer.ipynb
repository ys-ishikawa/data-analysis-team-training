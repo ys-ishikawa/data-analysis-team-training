{
 "cells": [
  {
   "cell_type": "markdown",
   "id": "acbd2bc3-6a64-4a6e-87af-0b48d5470dc9",
   "metadata": {},
   "source": [
    "# 要約統計量を算出する\n",
    "- 代表値\n",
    "    - （相加）平均（mean）\n",
    "    - 中央値（median）\n",
    "    - 最頻値（mode）\n",
    "\n",
    "\n",
    "- ばらつきの指標\n",
    "    - 分散（variance） vs 不偏分散\n",
    "    - 標準偏差（standard deviation）"
   ]
  },
  {
   "cell_type": "markdown",
   "id": "1367e58e-f27d-4c9a-b859-6064ec54efa8",
   "metadata": {},
   "source": [
    "---\n",
    "1. 以下のライブラリの読み込みを行なってください。　\\\n",
    "Numpy, Pandas"
   ]
  },
  {
   "cell_type": "code",
   "execution_count": 23,
   "id": "84e74a3f-8748-4a2c-8bd0-9ad96bd9b949",
   "metadata": {},
   "outputs": [],
   "source": [
    "import numpy as np\n",
    "import pandas as pd"
   ]
  },
  {
   "cell_type": "markdown",
   "id": "4c725283-1ddb-4fa8-b27d-293470c94533",
   "metadata": {},
   "source": [
    "---\n",
    "2. 以下の要約統計量について、理解してください。\n",
    "- 代表値\n",
    "    - （相加）平均　（mean）\n",
    "    - 中央値　（median）\n",
    "    - 最頻値　（mode）\n",
    "- ばらつきの指標\n",
    "    - 分散　（variance） 　（※ 余裕があれば、不偏分散についても確認しておいてください）\n",
    "    - 標準偏差（standard deviation）"
   ]
  },
  {
   "cell_type": "markdown",
   "id": "e4751807-c9c8-4f6d-9064-74d765f78211",
   "metadata": {},
   "source": [
    "---\n",
    "3. dataディレクトリ配下にある、height.csvを読み込みデータフレームに格納してください。"
   ]
  },
  {
   "cell_type": "code",
   "execution_count": 24,
   "id": "0f65f2da-c624-48cb-b6d6-fa6d9daab843",
   "metadata": {},
   "outputs": [],
   "source": [
    "df = pd.read_csv('data/height.csv')"
   ]
  },
  {
   "cell_type": "markdown",
   "id": "711cfc3c-7ad8-417c-b672-8e98b14674c8",
   "metadata": {},
   "source": [
    "---\n",
    "4. データフレームの先頭の数行を確認してください。"
   ]
  },
  {
   "cell_type": "code",
   "execution_count": 25,
   "id": "0b867b50-60fd-44ec-b15d-4f9b1322a41a",
   "metadata": {},
   "outputs": [
    {
     "data": {
      "text/html": [
       "<div>\n",
       "<style scoped>\n",
       "    .dataframe tbody tr th:only-of-type {\n",
       "        vertical-align: middle;\n",
       "    }\n",
       "\n",
       "    .dataframe tbody tr th {\n",
       "        vertical-align: top;\n",
       "    }\n",
       "\n",
       "    .dataframe thead th {\n",
       "        text-align: right;\n",
       "    }\n",
       "</style>\n",
       "<table border=\"1\" class=\"dataframe\">\n",
       "  <thead>\n",
       "    <tr style=\"text-align: right;\">\n",
       "      <th></th>\n",
       "      <th>height</th>\n",
       "      <th>gender</th>\n",
       "    </tr>\n",
       "  </thead>\n",
       "  <tbody>\n",
       "    <tr>\n",
       "      <th>0</th>\n",
       "      <td>156.2</td>\n",
       "      <td>F</td>\n",
       "    </tr>\n",
       "    <tr>\n",
       "      <th>1</th>\n",
       "      <td>172.1</td>\n",
       "      <td>M</td>\n",
       "    </tr>\n",
       "    <tr>\n",
       "      <th>2</th>\n",
       "      <td>159.0</td>\n",
       "      <td>F</td>\n",
       "    </tr>\n",
       "    <tr>\n",
       "      <th>3</th>\n",
       "      <td>167.4</td>\n",
       "      <td>M</td>\n",
       "    </tr>\n",
       "    <tr>\n",
       "      <th>4</th>\n",
       "      <td>169.6</td>\n",
       "      <td>M</td>\n",
       "    </tr>\n",
       "  </tbody>\n",
       "</table>\n",
       "</div>"
      ],
      "text/plain": [
       "   height gender\n",
       "0   156.2      F\n",
       "1   172.1      M\n",
       "2   159.0      F\n",
       "3   167.4      M\n",
       "4   169.6      M"
      ]
     },
     "execution_count": 25,
     "metadata": {},
     "output_type": "execute_result"
    }
   ],
   "source": [
    "df.head()"
   ]
  },
  {
   "cell_type": "markdown",
   "id": "d45a8f09-3bf8-44c3-99e1-c47ec3c92f46",
   "metadata": {},
   "source": [
    "---\n",
    "5. 読み込んだデータフレームの要約統計量を算出してください。\\\n",
    "（関数でまとめて算出するパターン、個別に算出するパターン）"
   ]
  },
  {
   "cell_type": "code",
   "execution_count": 26,
   "id": "b350965f-edbf-4647-a9a8-b38b396b7fb9",
   "metadata": {},
   "outputs": [
    {
     "data": {
      "text/html": [
       "<div>\n",
       "<style scoped>\n",
       "    .dataframe tbody tr th:only-of-type {\n",
       "        vertical-align: middle;\n",
       "    }\n",
       "\n",
       "    .dataframe tbody tr th {\n",
       "        vertical-align: top;\n",
       "    }\n",
       "\n",
       "    .dataframe thead th {\n",
       "        text-align: right;\n",
       "    }\n",
       "</style>\n",
       "<table border=\"1\" class=\"dataframe\">\n",
       "  <thead>\n",
       "    <tr style=\"text-align: right;\">\n",
       "      <th></th>\n",
       "      <th>height</th>\n",
       "    </tr>\n",
       "  </thead>\n",
       "  <tbody>\n",
       "    <tr>\n",
       "      <th>count</th>\n",
       "      <td>1998.000000</td>\n",
       "    </tr>\n",
       "    <tr>\n",
       "      <th>mean</th>\n",
       "      <td>164.743243</td>\n",
       "    </tr>\n",
       "    <tr>\n",
       "      <th>std</th>\n",
       "      <td>8.422025</td>\n",
       "    </tr>\n",
       "    <tr>\n",
       "      <th>min</th>\n",
       "      <td>141.900000</td>\n",
       "    </tr>\n",
       "    <tr>\n",
       "      <th>25%</th>\n",
       "      <td>158.200000</td>\n",
       "    </tr>\n",
       "    <tr>\n",
       "      <th>50%</th>\n",
       "      <td>164.500000</td>\n",
       "    </tr>\n",
       "    <tr>\n",
       "      <th>75%</th>\n",
       "      <td>171.200000</td>\n",
       "    </tr>\n",
       "    <tr>\n",
       "      <th>max</th>\n",
       "      <td>188.900000</td>\n",
       "    </tr>\n",
       "  </tbody>\n",
       "</table>\n",
       "</div>"
      ],
      "text/plain": [
       "            height\n",
       "count  1998.000000\n",
       "mean    164.743243\n",
       "std       8.422025\n",
       "min     141.900000\n",
       "25%     158.200000\n",
       "50%     164.500000\n",
       "75%     171.200000\n",
       "max     188.900000"
      ]
     },
     "execution_count": 26,
     "metadata": {},
     "output_type": "execute_result"
    }
   ],
   "source": [
    "# 要約統計量（サマリー）を表示（量的変数のみ）\n",
    "df.describe()"
   ]
  },
  {
   "cell_type": "code",
   "execution_count": 27,
   "id": "33ba0049-d85a-494e-8872-03f50ab5ba3e",
   "metadata": {},
   "outputs": [
    {
     "data": {
      "text/plain": [
       "'平均値：164.74324324324326'"
      ]
     },
     "metadata": {},
     "output_type": "display_data"
    },
    {
     "data": {
      "text/plain": [
       "'中央値：164.5'"
      ]
     },
     "metadata": {},
     "output_type": "display_data"
    },
    {
     "data": {
      "text/plain": [
       "'最小値：141.9'"
      ]
     },
     "metadata": {},
     "output_type": "display_data"
    },
    {
     "data": {
      "text/plain": [
       "'最大値：188.9'"
      ]
     },
     "metadata": {},
     "output_type": "display_data"
    },
    {
     "data": {
      "text/plain": [
       "'不偏分散(pandasを使う場合)：70.93049763834941'"
      ]
     },
     "metadata": {},
     "output_type": "display_data"
    },
    {
     "data": {
      "text/plain": [
       "'不偏分散（numpyを使う場合）：70.93049763834941'"
      ]
     },
     "metadata": {},
     "output_type": "display_data"
    },
    {
     "data": {
      "text/plain": [
       "'分散(pandasを使う場合)：70.89499688878067'"
      ]
     },
     "metadata": {},
     "output_type": "display_data"
    },
    {
     "data": {
      "text/plain": [
       "'分散（numpyを使う場合）：70.89499688878067'"
      ]
     },
     "metadata": {},
     "output_type": "display_data"
    },
    {
     "data": {
      "text/plain": [
       "'標準偏差：8.42202455697853'"
      ]
     },
     "metadata": {},
     "output_type": "display_data"
    }
   ],
   "source": [
    "# 平均値\n",
    "display(f\"平均値：{df['height'].mean()}\")\n",
    "\n",
    "\n",
    "# 中央値(numpyを使うのに注意)\n",
    "display(f\"中央値：{np.median(df['height'])}\")\n",
    "\n",
    "\n",
    "# 最小値\n",
    "display(f\"最小値：{df['height'].min()}\")\n",
    "\n",
    "\n",
    "# 最大値\n",
    "display(f\"最大値：{df['height'].max()}\")\n",
    "\n",
    "\n",
    "# 不偏分散（母集団の推定量として使う）\n",
    "display(f\"不偏分散(pandasを使う場合)：{df['height'].var()}\")\n",
    "display(f\"不偏分散（numpyを使う場合）：{np.var(df['height'], ddof=1)}\")\n",
    "\n",
    "\n",
    "# 分散\n",
    "display(f\"分散(pandasを使う場合)：{df['height'].var(ddof=0)}\")\n",
    "display(f\"分散（numpyを使う場合）：{np.var(df['height'])}\")\n",
    "\n",
    "\n",
    "# 標準偏差\n",
    "display(f\"標準偏差：{df['height'].std()}\")"
   ]
  },
  {
   "cell_type": "markdown",
   "id": "bb2bfcfb-afb3-4d8b-afcc-d66c8e87bc84",
   "metadata": {},
   "source": [
    "---\n",
    "6. 性別毎のデータ数を算出してください。"
   ]
  },
  {
   "cell_type": "code",
   "execution_count": 28,
   "id": "4f525eab-f122-423b-b6a3-1e6fd09d532f",
   "metadata": {},
   "outputs": [
    {
     "data": {
      "text/plain": [
       "M    1000\n",
       "F     998\n",
       "Name: gender, dtype: int64"
      ]
     },
     "execution_count": 28,
     "metadata": {},
     "output_type": "execute_result"
    }
   ],
   "source": [
    "# 性別毎のデータ数\n",
    "df['gender'].value_counts()"
   ]
  },
  {
   "cell_type": "markdown",
   "id": "1a6eef12-aa2b-45ca-a031-f569aa3f4e0c",
   "metadata": {},
   "source": [
    "---\n",
    "7. 性別毎で要約統計量をまとめて算出してください。"
   ]
  },
  {
   "cell_type": "code",
   "execution_count": 29,
   "id": "8578311b-d2f1-4a22-9b9c-67a0c6de8fc7",
   "metadata": {},
   "outputs": [
    {
     "data": {
      "text/html": [
       "<div>\n",
       "<style scoped>\n",
       "    .dataframe tbody tr th:only-of-type {\n",
       "        vertical-align: middle;\n",
       "    }\n",
       "\n",
       "    .dataframe tbody tr th {\n",
       "        vertical-align: top;\n",
       "    }\n",
       "\n",
       "    .dataframe thead tr th {\n",
       "        text-align: left;\n",
       "    }\n",
       "\n",
       "    .dataframe thead tr:last-of-type th {\n",
       "        text-align: right;\n",
       "    }\n",
       "</style>\n",
       "<table border=\"1\" class=\"dataframe\">\n",
       "  <thead>\n",
       "    <tr>\n",
       "      <th></th>\n",
       "      <th colspan=\"8\" halign=\"left\">height</th>\n",
       "    </tr>\n",
       "    <tr>\n",
       "      <th></th>\n",
       "      <th>count</th>\n",
       "      <th>mean</th>\n",
       "      <th>std</th>\n",
       "      <th>min</th>\n",
       "      <th>25%</th>\n",
       "      <th>50%</th>\n",
       "      <th>75%</th>\n",
       "      <th>max</th>\n",
       "    </tr>\n",
       "    <tr>\n",
       "      <th>gender</th>\n",
       "      <th></th>\n",
       "      <th></th>\n",
       "      <th></th>\n",
       "      <th></th>\n",
       "      <th></th>\n",
       "      <th></th>\n",
       "      <th></th>\n",
       "      <th></th>\n",
       "    </tr>\n",
       "  </thead>\n",
       "  <tbody>\n",
       "    <tr>\n",
       "      <th>F</th>\n",
       "      <td>998.0</td>\n",
       "      <td>158.391182</td>\n",
       "      <td>5.358041</td>\n",
       "      <td>141.9</td>\n",
       "      <td>154.700</td>\n",
       "      <td>158.40</td>\n",
       "      <td>162.0</td>\n",
       "      <td>175.2</td>\n",
       "    </tr>\n",
       "    <tr>\n",
       "      <th>M</th>\n",
       "      <td>1000.0</td>\n",
       "      <td>171.082600</td>\n",
       "      <td>5.709895</td>\n",
       "      <td>151.5</td>\n",
       "      <td>167.175</td>\n",
       "      <td>171.05</td>\n",
       "      <td>174.8</td>\n",
       "      <td>188.9</td>\n",
       "    </tr>\n",
       "  </tbody>\n",
       "</table>\n",
       "</div>"
      ],
      "text/plain": [
       "        height                                                            \n",
       "         count        mean       std    min      25%     50%    75%    max\n",
       "gender                                                                    \n",
       "F        998.0  158.391182  5.358041  141.9  154.700  158.40  162.0  175.2\n",
       "M       1000.0  171.082600  5.709895  151.5  167.175  171.05  174.8  188.9"
      ]
     },
     "execution_count": 29,
     "metadata": {},
     "output_type": "execute_result"
    }
   ],
   "source": [
    "# 男女別のサマリー\n",
    "df.groupby('gender').describe()"
   ]
  },
  {
   "cell_type": "code",
   "execution_count": 30,
   "id": "5366ecdf-fe0c-47a4-9d12-17754e61c646",
   "metadata": {},
   "outputs": [
    {
     "data": {
      "text/html": [
       "<div>\n",
       "<style scoped>\n",
       "    .dataframe tbody tr th:only-of-type {\n",
       "        vertical-align: middle;\n",
       "    }\n",
       "\n",
       "    .dataframe tbody tr th {\n",
       "        vertical-align: top;\n",
       "    }\n",
       "\n",
       "    .dataframe thead th {\n",
       "        text-align: right;\n",
       "    }\n",
       "</style>\n",
       "<table border=\"1\" class=\"dataframe\">\n",
       "  <thead>\n",
       "    <tr style=\"text-align: right;\">\n",
       "      <th></th>\n",
       "      <th>height</th>\n",
       "    </tr>\n",
       "    <tr>\n",
       "      <th>gender</th>\n",
       "      <th></th>\n",
       "    </tr>\n",
       "  </thead>\n",
       "  <tbody>\n",
       "    <tr>\n",
       "      <th>F</th>\n",
       "      <td>28.708608</td>\n",
       "    </tr>\n",
       "    <tr>\n",
       "      <th>M</th>\n",
       "      <td>32.602900</td>\n",
       "    </tr>\n",
       "  </tbody>\n",
       "</table>\n",
       "</div>"
      ],
      "text/plain": [
       "           height\n",
       "gender           \n",
       "F       28.708608\n",
       "M       32.602900"
      ]
     },
     "execution_count": 30,
     "metadata": {},
     "output_type": "execute_result"
    }
   ],
   "source": [
    "# describeではvarianceは計算されないので必要であれば算出する\n",
    "df.groupby('gender').var()"
   ]
  },
  {
   "cell_type": "code",
   "execution_count": null,
   "id": "f063a342-3aa9-4e48-8ff7-252d35dbbf3a",
   "metadata": {},
   "outputs": [],
   "source": []
  }
 ],
 "metadata": {
  "kernelspec": {
   "display_name": "default:Python",
   "language": "python",
   "name": "conda-env-default-py"
  },
  "language_info": {
   "codemirror_mode": {
    "name": "ipython",
    "version": 3
   },
   "file_extension": ".py",
   "mimetype": "text/x-python",
   "name": "python",
   "nbconvert_exporter": "python",
   "pygments_lexer": "ipython3",
   "version": "3.9.10"
  }
 },
 "nbformat": 4,
 "nbformat_minor": 5
}

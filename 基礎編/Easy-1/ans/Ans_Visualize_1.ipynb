{
 "cells": [
  {
   "cell_type": "markdown",
   "id": "8ead52a8-9130-4dc2-832a-7d7e36b756a2",
   "metadata": {},
   "source": [
    "# 分布の形を捉える"
   ]
  },
  {
   "cell_type": "markdown",
   "id": "c33dc050-6679-464d-a3c5-f3292002d087",
   "metadata": {},
   "source": [
    "---\n",
    "### 1. 以下のライブラリの読み込みを行なってください。\n",
    "Numpy, Pandas, Matplotlib, Seaborn, japanize-matplotlib\\\n",
    "拡張ライブラリがインストールされていない場合、必要に応じてインストールしてください"
   ]
  },
  {
   "cell_type": "code",
   "execution_count": 11,
   "id": "f6577b70-2adf-4aaf-8f80-1744526acc14",
   "metadata": {},
   "outputs": [],
   "source": [
    "import numpy as np\n",
    "import pandas as pd\n",
    "\n",
    "import matplotlib.pyplot as plt\n",
    "import japanize_matplotlib\n",
    "import seaborn as sns\n",
    "%matplotlib inline"
   ]
  },
  {
   "cell_type": "markdown",
   "id": "acb5f1f1-65b3-4023-b38c-6d738ccf4c56",
   "metadata": {},
   "source": [
    "---\n",
    "### 2. dataディレクトリ配下にある、height.csvを読み込みデータフレームに格納してください"
   ]
  },
  {
   "cell_type": "code",
   "execution_count": 2,
   "id": "59528872-97db-4e4e-af8a-01d3aa2e3980",
   "metadata": {},
   "outputs": [],
   "source": [
    "df = pd.read_csv('data/height.csv')"
   ]
  },
  {
   "cell_type": "markdown",
   "id": "22ef86cf-6ba4-48c5-a8f3-74414f7ec9ac",
   "metadata": {},
   "source": [
    "---\n",
    "### 3. データフレームの先頭の数行を確認してください"
   ]
  },
  {
   "cell_type": "code",
   "execution_count": 13,
   "id": "21f822ed-f8d7-48f5-8aa6-974b762208b4",
   "metadata": {},
   "outputs": [
    {
     "data": {
      "text/html": [
       "<div>\n",
       "<style scoped>\n",
       "    .dataframe tbody tr th:only-of-type {\n",
       "        vertical-align: middle;\n",
       "    }\n",
       "\n",
       "    .dataframe tbody tr th {\n",
       "        vertical-align: top;\n",
       "    }\n",
       "\n",
       "    .dataframe thead th {\n",
       "        text-align: right;\n",
       "    }\n",
       "</style>\n",
       "<table border=\"1\" class=\"dataframe\">\n",
       "  <thead>\n",
       "    <tr style=\"text-align: right;\">\n",
       "      <th></th>\n",
       "      <th>height</th>\n",
       "      <th>gender</th>\n",
       "    </tr>\n",
       "  </thead>\n",
       "  <tbody>\n",
       "    <tr>\n",
       "      <th>0</th>\n",
       "      <td>156.2</td>\n",
       "      <td>F</td>\n",
       "    </tr>\n",
       "    <tr>\n",
       "      <th>1</th>\n",
       "      <td>172.1</td>\n",
       "      <td>M</td>\n",
       "    </tr>\n",
       "    <tr>\n",
       "      <th>2</th>\n",
       "      <td>159.0</td>\n",
       "      <td>F</td>\n",
       "    </tr>\n",
       "    <tr>\n",
       "      <th>3</th>\n",
       "      <td>167.4</td>\n",
       "      <td>M</td>\n",
       "    </tr>\n",
       "    <tr>\n",
       "      <th>4</th>\n",
       "      <td>169.6</td>\n",
       "      <td>M</td>\n",
       "    </tr>\n",
       "  </tbody>\n",
       "</table>\n",
       "</div>"
      ],
      "text/plain": [
       "   height gender\n",
       "0   156.2      F\n",
       "1   172.1      M\n",
       "2   159.0      F\n",
       "3   167.4      M\n",
       "4   169.6      M"
      ]
     },
     "execution_count": 13,
     "metadata": {},
     "output_type": "execute_result"
    }
   ],
   "source": [
    "df.head()"
   ]
  },
  {
   "cell_type": "code",
   "execution_count": 16,
   "id": "2d7d9dff-15f6-40e9-9f86-bf59843e71af",
   "metadata": {},
   "outputs": [
    {
     "data": {
      "text/plain": [
       "<AxesSubplot:xlabel='gender', ylabel='count'>"
      ]
     },
     "execution_count": 16,
     "metadata": {},
     "output_type": "execute_result"
    },
    {
     "data": {
      "image/png": "[encoded data removed]",
      "text/plain": [
       "<Figure size 432x288 with 1 Axes>"
      ]
     },
     "metadata": {
      "needs_background": "light"
     },
     "output_type": "display_data"
    }
   ],
   "source": [
    "# 補足：　男女のデータ数を可視化\n",
    "sns.countplot(x='gender', data=df)"
   ]
  },
  {
   "cell_type": "markdown",
   "id": "91802db4-1aa8-4c09-a4e3-76c242ab0e36",
   "metadata": {},
   "source": [
    "---\n",
    "### 4. データフレームの「身長」の列について、ヒストグラムを描画してください\\\n",
    "(以降、描画はSeabornを使うこと)"
   ]
  },
  {
   "cell_type": "code",
   "execution_count": 4,
   "id": "90a1c7e8-a9d4-4846-b5d3-902be7b2850e",
   "metadata": {},
   "outputs": [
    {
     "data": {
      "text/plain": [
       "<AxesSubplot:xlabel='height', ylabel='Count'>"
      ]
     },
     "execution_count": 4,
     "metadata": {},
     "output_type": "execute_result"
    },
    {
     "data": {
      "image/png": "[encoded data removed]",
      "text/plain": [
       "<Figure size 432x288 with 1 Axes>"
      ]
     },
     "metadata": {
      "needs_background": "light"
     },
     "output_type": "display_data"
    }
   ],
   "source": [
    "# ヒストグラムを描画\n",
    "sns.histplot(df['height'])"
   ]
  },
  {
   "cell_type": "markdown",
   "id": "d139635b-2e4a-48b5-9ae7-a7d8e072650d",
   "metadata": {},
   "source": [
    "---\n",
    "### 5. データフレームの「身長」の列について、性別毎でヒストグラムを描画してください"
   ]
  },
  {
   "cell_type": "code",
   "execution_count": 5,
   "id": "cd3c1e27-bb85-4c2d-b4a3-52a0b8bb7e85",
   "metadata": {},
   "outputs": [
    {
     "data": {
      "text/plain": [
       "<AxesSubplot:xlabel='height', ylabel='Count'>"
      ]
     },
     "execution_count": 5,
     "metadata": {},
     "output_type": "execute_result"
    },
    {
     "data": {
      "image/png": "[encoded data removed]",
      "text/plain": [
       "<Figure size 432x288 with 1 Axes>"
      ]
     },
     "metadata": {
      "needs_background": "light"
     },
     "output_type": "display_data"
    }
   ],
   "source": [
    "# 性別毎でヒストグラムを描画\n",
    "sns.histplot(df, x='height', hue='gender')"
   ]
  },
  {
   "cell_type": "code",
   "execution_count": 6,
   "id": "9c56d738-cd5e-4400-ad02-d381da574c00",
   "metadata": {},
   "outputs": [
    {
     "data": {
      "text/plain": [
       "<AxesSubplot:xlabel='height', ylabel='Density'>"
      ]
     },
     "execution_count": 6,
     "metadata": {},
     "output_type": "execute_result"
    },
    {
     "data": {
      "image/png": "[encoded data removed]",
      "text/plain": [
       "<Figure size 432x288 with 1 Axes>"
      ]
     },
     "metadata": {
      "needs_background": "light"
     },
     "output_type": "display_data"
    }
   ],
   "source": [
    "# 補足：　カーネル密度推定を使用した分布\n",
    "sns.kdeplot(x=\"height\", hue=\"gender\", data=df)"
   ]
  },
  {
   "cell_type": "markdown",
   "id": "86014dde-ddfe-4769-bba5-5d13539bb1c5",
   "metadata": {},
   "source": [
    "---\n",
    "### 6. 性別でグループ分けし、ボックスプロットを描画してください。\\\n",
    "x軸のラベルを「性別」、y軸のラベルを「身長」としてください。　\\\n",
    "また、描画されたボックスプロットが何を示しているか、確認してください。"
   ]
  },
  {
   "cell_type": "code",
   "execution_count": 7,
   "id": "7625af83-104c-4e84-93a3-0c84c836bebd",
   "metadata": {},
   "outputs": [
    {
     "data": {
      "text/plain": [
       "Text(0, 0.5, '身長')"
      ]
     },
     "execution_count": 7,
     "metadata": {},
     "output_type": "execute_result"
    },
    {
     "data": {
      "image/png": "[encoded data removed]",
      "text/plain": [
       "<Figure size 360x720 with 1 Axes>"
      ]
     },
     "metadata": {
      "needs_background": "light"
     },
     "output_type": "display_data"
    }
   ],
   "source": [
    "# ボックスプロット\n",
    "plt.figure(figsize=(5, 10))\n",
    "sns.boxplot(x='gender', y='height', data=df)\n",
    "plt.xlabel('性別')\n",
    "plt.ylabel('身長')"
   ]
  },
  {
   "cell_type": "code",
   "execution_count": null,
   "id": "076be169-eece-40c0-b3b2-fa65e9685b8c",
   "metadata": {},
   "outputs": [],
   "source": []
  },
  {
   "cell_type": "code",
   "execution_count": null,
   "id": "c32e952e-f686-47f3-bfba-4c6ef57ff8df",
   "metadata": {},
   "outputs": [],
   "source": []
  }
 ],
 "metadata": {
  "kernelspec": {
   "display_name": "default:Python",
   "language": "python",
   "name": "conda-env-default-py"
  },
  "language_info": {
   "codemirror_mode": {
    "name": "ipython",
    "version": 3
   },
   "file_extension": ".py",
   "mimetype": "text/x-python",
   "name": "python",
   "nbconvert_exporter": "python",
   "pygments_lexer": "ipython3",
   "version": "3.9.10"
  }
 },
 "nbformat": 4,
 "nbformat_minor": 5
}

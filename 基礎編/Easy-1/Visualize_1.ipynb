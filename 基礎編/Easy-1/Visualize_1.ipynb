{
 "cells": [
  {
   "cell_type": "markdown",
   "id": "8ead52a8-9130-4dc2-832a-7d7e36b756a2",
   "metadata": {},
   "source": [
    "# 分布の形を捉える"
   ]
  },
  {
   "cell_type": "markdown",
   "id": "c33dc050-6679-464d-a3c5-f3292002d087",
   "metadata": {},
   "source": [
    "---\n",
    "### 1. 以下のライブラリの読み込みを行なってください。\n",
    "Numpy, Pandas, Matplotlib, Seaborn, japanize-matplotlib\\\n",
    "拡張ライブラリがインストールされていない場合、必要に応じてインストールしてください"
   ]
  },
  {
   "cell_type": "code",
   "execution_count": null,
   "id": "f6577b70-2adf-4aaf-8f80-1744526acc14",
   "metadata": {},
   "outputs": [],
   "source": []
  },
  {
   "cell_type": "markdown",
   "id": "acb5f1f1-65b3-4023-b38c-6d738ccf4c56",
   "metadata": {},
   "source": [
    "---\n",
    "### 2. dataディレクトリ配下にある、height.csvを読み込みデータフレームに格納してください"
   ]
  },
  {
   "cell_type": "code",
   "execution_count": null,
   "id": "59528872-97db-4e4e-af8a-01d3aa2e3980",
   "metadata": {},
   "outputs": [],
   "source": []
  },
  {
   "cell_type": "markdown",
   "id": "22ef86cf-6ba4-48c5-a8f3-74414f7ec9ac",
   "metadata": {},
   "source": [
    "---\n",
    "### 3. データフレームの先頭の数行を確認してください"
   ]
  },
  {
   "cell_type": "code",
   "execution_count": null,
   "id": "21f822ed-f8d7-48f5-8aa6-974b762208b4",
   "metadata": {},
   "outputs": [],
   "source": []
  },
  {
   "cell_type": "markdown",
   "id": "91802db4-1aa8-4c09-a4e3-76c242ab0e36",
   "metadata": {},
   "source": [
    "---\n",
    "### 4. データフレームの「身長」の列について、ヒストグラムを描画してください\n",
    "(以降、描画はSeabornを使うこと)"
   ]
  },
  {
   "cell_type": "code",
   "execution_count": null,
   "id": "90a1c7e8-a9d4-4846-b5d3-902be7b2850e",
   "metadata": {},
   "outputs": [],
   "source": []
  },
  {
   "cell_type": "markdown",
   "id": "d139635b-2e4a-48b5-9ae7-a7d8e072650d",
   "metadata": {},
   "source": [
    "---\n",
    "### 5. データフレームの「身長」の列について、性別毎でヒストグラムを描画してください\n",
    "ただし、１つの図として描画すること"
   ]
  },
  {
   "cell_type": "code",
   "execution_count": null,
   "id": "cd3c1e27-bb85-4c2d-b4a3-52a0b8bb7e85",
   "metadata": {},
   "outputs": [],
   "source": []
  },
  {
   "cell_type": "markdown",
   "id": "86014dde-ddfe-4769-bba5-5d13539bb1c5",
   "metadata": {},
   "source": [
    "---\n",
    "### 6. 性別でグループ分けし、ボックスプロットを描画してください。\n",
    "x軸のラベルを「性別」、y軸のラベルを「身長」としてください。　\\\n",
    "また、描画されたボックスプロットが何を示しているか、確認してください。"
   ]
  },
  {
   "cell_type": "code",
   "execution_count": null,
   "id": "7625af83-104c-4e84-93a3-0c84c836bebd",
   "metadata": {},
   "outputs": [],
   "source": []
  },
  {
   "cell_type": "code",
   "execution_count": null,
   "id": "076be169-eece-40c0-b3b2-fa65e9685b8c",
   "metadata": {},
   "outputs": [],
   "source": []
  },
  {
   "cell_type": "code",
   "execution_count": null,
   "id": "c32e952e-f686-47f3-bfba-4c6ef57ff8df",
   "metadata": {},
   "outputs": [],
   "source": []
  }
 ],
 "metadata": {
  "kernelspec": {
   "display_name": "default:Python",
   "language": "python",
   "name": "conda-env-default-py"
  },
  "language_info": {
   "codemirror_mode": {
    "name": "ipython",
    "version": 3
   },
   "file_extension": ".py",
   "mimetype": "text/x-python",
   "name": "python",
   "nbconvert_exporter": "python",
   "pygments_lexer": "ipython3",
   "version": "3.9.10"
  }
 },
 "nbformat": 4,
 "nbformat_minor": 5
}

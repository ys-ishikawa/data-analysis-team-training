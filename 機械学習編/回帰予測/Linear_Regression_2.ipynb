{
 "cells": [
  {
   "cell_type": "markdown",
   "id": "248d9cef-0b6e-4fcf-a71b-c8fa9c264a42",
   "metadata": {},
   "source": [
    "### 0. 必要なモジュールをimport してください（必要に応じて以下のセルに追記していくこと）"
   ]
  },
  {
   "cell_type": "code",
   "execution_count": null,
   "id": "dedfc50f-f383-4597-b9ab-49f757885431",
   "metadata": {},
   "outputs": [],
   "source": []
  },
  {
   "cell_type": "markdown",
   "id": "140c980a-7681-4869-af68-d8e859e04060",
   "metadata": {},
   "source": [
    "## データセットの用意"
   ]
  },
  {
   "cell_type": "markdown",
   "id": "ace8ca16-22e8-4a06-b024-2cb11b6c9e77",
   "metadata": {},
   "source": [
    "### 1. seabornのload_datasetメソッドを使用し、Diamondsデータセットを読み込み、先頭5行を表示、確認してください。"
   ]
  },
  {
   "cell_type": "code",
   "execution_count": null,
   "id": "bdf3813d-9c1e-4adb-805f-1f8c28e571ae",
   "metadata": {},
   "outputs": [],
   "source": []
  },
  {
   "cell_type": "code",
   "execution_count": null,
   "id": "6457ac44-ff43-47e3-ba40-abd3614302c6",
   "metadata": {},
   "outputs": [],
   "source": []
  },
  {
   "cell_type": "markdown",
   "id": "b1cf8302-4fb8-4e00-ad6d-34c15fa00ee0",
   "metadata": {},
   "source": [
    "### 2. 読み込んだデータセットの要約統計量を確認してください。"
   ]
  },
  {
   "cell_type": "code",
   "execution_count": null,
   "id": "0bcc04c8-a2fa-48a3-a49a-b25d767863cb",
   "metadata": {},
   "outputs": [],
   "source": []
  },
  {
   "cell_type": "markdown",
   "id": "98f1e62d-7743-4968-b8e4-76db0c479d7d",
   "metadata": {},
   "source": [
    "### 3. 変数x, y, zの最小値が0のデータを除いてください。除いたデータセットの要約統計量を改めて確認してください。"
   ]
  },
  {
   "cell_type": "code",
   "execution_count": null,
   "id": "8778e3a5-8855-4bf2-b8cc-6011c04aa036",
   "metadata": {},
   "outputs": [],
   "source": []
  },
  {
   "cell_type": "code",
   "execution_count": null,
   "id": "c8b23f7a-3a08-4b68-84f7-6ad6962160ca",
   "metadata": {},
   "outputs": [],
   "source": []
  },
  {
   "cell_type": "markdown",
   "id": "a990b3bc-9b14-470b-9ce0-86d09e2d6771",
   "metadata": {},
   "source": [
    "## 線形回帰モデルを構築する"
   ]
  },
  {
   "cell_type": "markdown",
   "id": "99fb7468-388f-4ab8-8261-ec2b6a95955c",
   "metadata": {},
   "source": [
    "### 4. LinearRegressionクラスからインスタンスを生成してください"
   ]
  },
  {
   "cell_type": "code",
   "execution_count": null,
   "id": "98b6e063-35dd-4726-93e3-3240efb6d45b",
   "metadata": {},
   "outputs": [],
   "source": []
  },
  {
   "cell_type": "markdown",
   "id": "207d154d-1ae7-4f41-ade7-d7ef6d6b5b02",
   "metadata": {},
   "source": [
    "### 5. 特徴量（説明変数）は　carat, 目的変数は priceとし、学習データを準備してください。\n",
    "（注）　scikit-learnを使う際の学習データは， X は𝑚×𝑛の形にする必要があります。"
   ]
  },
  {
   "cell_type": "code",
   "execution_count": null,
   "id": "ee64d0b9-1a4c-4c06-9fcf-4c5b65544b74",
   "metadata": {},
   "outputs": [],
   "source": []
  },
  {
   "cell_type": "code",
   "execution_count": null,
   "id": "b33862e6-2767-4898-88e7-a59114e69c3d",
   "metadata": {},
   "outputs": [],
   "source": []
  },
  {
   "cell_type": "markdown",
   "id": "9ae81627-a8d5-4288-bf35-8540a028787e",
   "metadata": {},
   "source": [
    "### 6. 用意したmodelインスタンス、学習データを使用し、学習済みのインスタンスとしてください。"
   ]
  },
  {
   "cell_type": "code",
   "execution_count": null,
   "id": "12839c4b-df41-46a3-b1f5-afce02d12e61",
   "metadata": {},
   "outputs": [],
   "source": []
  },
  {
   "cell_type": "markdown",
   "id": "93e54fa3-559c-459c-861c-372a8eb273f9",
   "metadata": {},
   "source": [
    "### 7. 学習済みのモデルのパラメータを確認してください"
   ]
  },
  {
   "cell_type": "code",
   "execution_count": null,
   "id": "5a14a86a-2295-4f99-9f2f-7a2130a3baca",
   "metadata": {},
   "outputs": [],
   "source": []
  },
  {
   "cell_type": "markdown",
   "id": "300c3633-0dca-4c27-afaf-ba30fa91188f",
   "metadata": {},
   "source": [
    "### 8. 未知のデータに対して予測値を取得してください。（carat が1.5, 2.0, 2.5の時のpriceを予測する）"
   ]
  },
  {
   "cell_type": "code",
   "execution_count": null,
   "id": "07ddc964-e00a-4c07-98cf-5d6a6faf1e11",
   "metadata": {},
   "outputs": [],
   "source": []
  },
  {
   "cell_type": "code",
   "execution_count": null,
   "id": "bf404b24-6fda-4db4-aff0-2579365d997a",
   "metadata": {},
   "outputs": [],
   "source": []
  }
 ],
 "metadata": {
  "kernelspec": {
   "display_name": "default:Python",
   "language": "python",
   "name": "conda-env-default-py"
  },
  "language_info": {
   "codemirror_mode": {
    "name": "ipython",
    "version": 3
   },
   "file_extension": ".py",
   "mimetype": "text/x-python",
   "name": "python",
   "nbconvert_exporter": "python",
   "pygments_lexer": "ipython3",
   "version": "3.9.10"
  }
 },
 "nbformat": 4,
 "nbformat_minor": 5
}

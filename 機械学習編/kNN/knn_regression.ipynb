{
 "cells": [
  {
   "cell_type": "markdown",
   "id": "55e643a5-1cb5-4519-86b8-77f1b8089de0",
   "metadata": {},
   "source": [
    "## 機械学習 〜 k−近傍法による回帰(k-NN回帰) 〜"
   ]
  },
  {
   "cell_type": "markdown",
   "id": "b1e0cb1a-854e-41c8-ae34-2bb9dc073a9c",
   "metadata": {},
   "source": [
    "### 0. 必要なモジュールをimport してください（必要に応じて以下のセルに追記していくこと）"
   ]
  },
  {
   "cell_type": "code",
   "execution_count": null,
   "id": "94883218-1d52-491d-aa39-ca68f12d028a",
   "metadata": {},
   "outputs": [],
   "source": []
  },
  {
   "cell_type": "markdown",
   "id": "feaeaeb5-60d3-4be3-8d4d-d8df2932943d",
   "metadata": {},
   "source": [
    "### 1. ボストン市の住宅価格データをscikit-learnから取得し、データフレームに格納すること。（なお、目的変数となる住宅価格は「PRICE」とすること)\n",
    "### 説明変数と目的変数を一旦一つのデータフレームとしてください。\n",
    "\n",
    "↓↓ 以下は、データセットの各カラムの説明 \\\n",
    "（参考） Boston house-prices (ボストン市の住宅価格) \\\n",
    "https://pythondatascience.plavox.info/scikit-learn/scikit-learn%E3%81%AB%E4%BB%98%E5%B1%9E%E3%81%97%E3%81%A6%E3%81%84%E3%82%8B%E3%83%87%E3%83%BC%E3%82%BF%E3%82%BB%E3%83%83%E3%83%88"
   ]
  },
  {
   "cell_type": "code",
   "execution_count": null,
   "id": "10a33323-3d78-49cd-9fc1-35fd162e386f",
   "metadata": {},
   "outputs": [],
   "source": []
  },
  {
   "cell_type": "markdown",
   "id": "71b8fd18-d87f-44dd-b0ed-55a4270c233c",
   "metadata": {},
   "source": [
    "### 2. 取得したデータで作成したデータフレームの先頭5行を表示すること"
   ]
  },
  {
   "cell_type": "code",
   "execution_count": null,
   "id": "ef68c47a-e81c-46bd-b60d-01bcbb7428ab",
   "metadata": {},
   "outputs": [],
   "source": []
  },
  {
   "cell_type": "markdown",
   "id": "a7d3d2bf-e028-430e-920d-e276f231b17c",
   "metadata": {},
   "source": [
    "### 3. 作成したデータフレームで、部屋数と住宅価格で散布図を表示して、どのような関係がありそうか確認してください。"
   ]
  },
  {
   "cell_type": "code",
   "execution_count": null,
   "id": "3d1c1e37-7185-411d-b2d5-a67fe4515071",
   "metadata": {},
   "outputs": [],
   "source": []
  },
  {
   "cell_type": "markdown",
   "id": "7fe5310f-57a6-4bba-8bfa-92f62e04255f",
   "metadata": {},
   "source": [
    "### 4. 特徴量として部屋数を使い住宅価格を予測を行います。目的変数と説明変数に分けてください。"
   ]
  },
  {
   "cell_type": "code",
   "execution_count": null,
   "id": "b3cfc29f-3c30-4fe9-9e57-c184b54c5c4f",
   "metadata": {},
   "outputs": [],
   "source": []
  },
  {
   "cell_type": "markdown",
   "id": "9b50e106-b087-4fa5-9d2d-6bd814d26512",
   "metadata": {},
   "source": [
    "### 5. データを訓練用とテスト用にしてください。今回は、scikit-learnのtrain_test_splitを使い、75:25に分割すること\n",
    "- random_stateは0とすること"
   ]
  },
  {
   "cell_type": "code",
   "execution_count": null,
   "id": "440c9505-c1bf-49af-9406-d0e586f59dce",
   "metadata": {},
   "outputs": [],
   "source": []
  },
  {
   "cell_type": "markdown",
   "id": "b11da82b-c122-47e4-a9a4-b15cccaf9214",
   "metadata": {},
   "source": [
    "### 6. KNeighborsRegressor クラスについて確認してください。"
   ]
  },
  {
   "cell_type": "markdown",
   "id": "f19720d5-5519-4af4-a776-410de46cd9c7",
   "metadata": {},
   "source": [
    "### 7.kを1〜21で、住宅価格の予測、精度を確認してください。また、kの値と決定係数の関係を折れ線グラフで図示してください。"
   ]
  },
  {
   "cell_type": "code",
   "execution_count": null,
   "id": "c6a2f1a7-95d3-4760-aaf7-0ecee6d091e1",
   "metadata": {},
   "outputs": [],
   "source": []
  },
  {
   "cell_type": "markdown",
   "id": "451ebea0-9936-4ece-8584-68c74f20c5c0",
   "metadata": {},
   "source": [
    "### 8. kの最適な値（ほとんどMAE, MSE, 決定係数が変化しなくなった値）の予測値を用いて、３.で作成した散布図上に、説明変数（部屋数）と目的変数（今回予測した住宅価格）の折れ線を図示してください。"
   ]
  },
  {
   "cell_type": "code",
   "execution_count": null,
   "id": "92e265db-1885-4d06-904e-a4b08796ced6",
   "metadata": {},
   "outputs": [],
   "source": []
  },
  {
   "cell_type": "code",
   "execution_count": null,
   "id": "27bf3712-51e1-4a97-bc7e-4f45e0708069",
   "metadata": {},
   "outputs": [],
   "source": []
  }
 ],
 "metadata": {
  "kernelspec": {
   "display_name": "default:Python",
   "language": "python",
   "name": "conda-env-default-py"
  },
  "language_info": {
   "codemirror_mode": {
    "name": "ipython",
    "version": 3
   },
   "file_extension": ".py",
   "mimetype": "text/x-python",
   "name": "python",
   "nbconvert_exporter": "python",
   "pygments_lexer": "ipython3",
   "version": "3.9.10"
  }
 },
 "nbformat": 4,
 "nbformat_minor": 5
}

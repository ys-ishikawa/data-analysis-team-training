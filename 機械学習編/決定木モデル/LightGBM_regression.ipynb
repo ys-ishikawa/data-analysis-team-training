{
 "cells": [
  {
   "cell_type": "markdown",
   "id": "8543115e-ab47-40b6-ba70-5811aed12240",
   "metadata": {},
   "source": [
    "### 0. 必要なモジュールをimport してください（必要に応じて以下のセルに追記していくこと）"
   ]
  },
  {
   "cell_type": "code",
   "execution_count": null,
   "id": "900e24bf-4c03-4169-9721-bb97ac981ca2",
   "metadata": {},
   "outputs": [],
   "source": []
  },
  {
   "cell_type": "markdown",
   "id": "8c0a1e01-6e47-4493-82d3-e57daf0f3e1a",
   "metadata": {},
   "source": [
    "### 1. ボストン市の住宅価格データをscikit-learnから取得し、データフレームに格納すること。（なお、目的変数となる住宅価格は「PRICE」とすること)\n",
    "### 説明変数と目的変数を一旦一つのデータフレームとしてください。\n",
    "\n",
    "↓↓ 以下は、データセットの各カラムの説明 \\\n",
    "（参考） Boston house-prices (ボストン市の住宅価格) \\\n",
    "https://pythondatascience.plavox.info/scikit-learn/scikit-learn%E3%81%AB%E4%BB%98%E5%B1%9E%E3%81%97%E3%81%A6%E3%81%84%E3%82%8B%E3%83%87%E3%83%BC%E3%82%BF%E3%82%BB%E3%83%83%E3%83%88"
   ]
  },
  {
   "cell_type": "code",
   "execution_count": null,
   "id": "ca208234-aa4d-4618-b65e-647e4823fa3d",
   "metadata": {},
   "outputs": [],
   "source": []
  },
  {
   "cell_type": "markdown",
   "id": "8bd5246b-9f9d-4105-8ae7-73cd3bac0385",
   "metadata": {},
   "source": [
    "### 2. 取得したデータで作成したデータフレームの先頭5行を表示すること"
   ]
  },
  {
   "cell_type": "code",
   "execution_count": null,
   "id": "2005930b-5a7b-421c-957c-b1f3fe7eef22",
   "metadata": {},
   "outputs": [],
   "source": []
  },
  {
   "cell_type": "markdown",
   "id": "40c7e8f2-8da3-473b-82fa-75be2000f527",
   "metadata": {},
   "source": [
    "### 3. データフレームの要約統計量を確認すること"
   ]
  },
  {
   "cell_type": "code",
   "execution_count": null,
   "id": "795d41ec-9899-4fd2-b789-facfdbe4c504",
   "metadata": {},
   "outputs": [],
   "source": []
  },
  {
   "cell_type": "markdown",
   "id": "24600804-ad00-4a95-9aba-e3116332ae0d",
   "metadata": {},
   "source": [
    "### 4. 目的変数と説明変数に分けてください"
   ]
  },
  {
   "cell_type": "code",
   "execution_count": null,
   "id": "0acb2041-9563-4c2f-b3f0-874549987857",
   "metadata": {},
   "outputs": [],
   "source": []
  },
  {
   "cell_type": "markdown",
   "id": "ae05ed34-fb36-494e-8840-187db079e5b8",
   "metadata": {},
   "source": [
    "### 5. データを訓練用とテスト用にしてください。今回は、scikit-learnのtrain_test_splitを使い、7:3に分割すること"
   ]
  },
  {
   "cell_type": "code",
   "execution_count": null,
   "id": "0ca18903-0d54-4ad4-846e-8063df77509c",
   "metadata": {},
   "outputs": [],
   "source": []
  },
  {
   "cell_type": "markdown",
   "id": "24ed1872-006e-452d-8d41-cbe721553f58",
   "metadata": {},
   "source": [
    "### 6. lightgbm.LGBMRegressorクラスのインスタンスを作成してください\n",
    "ハイパーパラメータであるmax_depth=10, learning_rate=0.05, random_state=0, としてください。（その他はデフォルトでOK）"
   ]
  },
  {
   "cell_type": "code",
   "execution_count": 7,
   "id": "1d6b0409-779b-4f4e-abb3-e155aa06d06e",
   "metadata": {},
   "outputs": [],
   "source": []
  },
  {
   "cell_type": "markdown",
   "id": "29d81b36-48c1-4f67-aa55-124adb9ea045",
   "metadata": {},
   "source": [
    "### 7. 学習用データ、検証用データ、コールバック関数を指定して学習を実行してください\n",
    "なお、コールバック関数には、early_stoppingとlog_evaluationを指定してください。"
   ]
  },
  {
   "cell_type": "code",
   "execution_count": null,
   "id": "b839657b-9aa0-4e58-878e-a937bd2e540d",
   "metadata": {},
   "outputs": [],
   "source": []
  },
  {
   "cell_type": "markdown",
   "id": "68d82315-e8a4-48d5-a477-937c810907fe",
   "metadata": {},
   "source": [
    "### 8. 学習済みのmodelについて、「best_iteration_」, 「best_score_」を表示し、確認してください"
   ]
  },
  {
   "cell_type": "code",
   "execution_count": null,
   "id": "d7791df8-2d13-49fb-88b6-f4927acd0511",
   "metadata": {},
   "outputs": [],
   "source": []
  },
  {
   "cell_type": "markdown",
   "id": "fc7d758f-8bb5-443d-9699-baf49411735d",
   "metadata": {},
   "source": [
    "### 9. 検証用データを用い予測値を計算し、評価指標であるRMSE, R^2（決定係数）を算出してください"
   ]
  },
  {
   "cell_type": "code",
   "execution_count": null,
   "id": "0f0870e1-daf5-4017-a517-453bc968d51e",
   "metadata": {},
   "outputs": [],
   "source": []
  },
  {
   "cell_type": "markdown",
   "id": "7fcd1ee0-ca4a-45a2-a85a-6f37d06c3737",
   "metadata": {},
   "source": [
    "### 10. 学習したモデルの学習曲線を表示してください"
   ]
  },
  {
   "cell_type": "code",
   "execution_count": null,
   "id": "a1d6810d-cfed-41cb-a677-d2342549d329",
   "metadata": {},
   "outputs": [],
   "source": []
  },
  {
   "cell_type": "markdown",
   "id": "e88212d4-ca3c-4cd5-9f25-0c8fd37e89a0",
   "metadata": {},
   "source": [
    "### 11. 今回の学習モデルの変数の重要度を確認してください"
   ]
  },
  {
   "cell_type": "code",
   "execution_count": null,
   "id": "96c3d983-18ca-4d6e-97b5-723509a7db1d",
   "metadata": {},
   "outputs": [],
   "source": []
  },
  {
   "cell_type": "code",
   "execution_count": null,
   "id": "205cf412-071f-4130-a2f0-76b076853705",
   "metadata": {},
   "outputs": [],
   "source": []
  }
 ],
 "metadata": {
  "kernelspec": {
   "display_name": "default:Python",
   "language": "python",
   "name": "conda-env-default-py"
  },
  "language_info": {
   "codemirror_mode": {
    "name": "ipython",
    "version": 3
   },
   "file_extension": ".py",
   "mimetype": "text/x-python",
   "name": "python",
   "nbconvert_exporter": "python",
   "pygments_lexer": "ipython3",
   "version": "3.9.10"
  }
 },
 "nbformat": 4,
 "nbformat_minor": 5
}

{
 "cells": [
  {
   "cell_type": "markdown",
   "id": "c06d35a4-fc49-4151-ac09-0841b2eded41",
   "metadata": {},
   "source": [
    "### 0. 必要なモジュールをimport してください（必要に応じて以下のセルに追記していくこと）"
   ]
  },
  {
   "cell_type": "code",
   "execution_count": null,
   "id": "d3f48ec0-24ed-4f09-a964-46393b8fb19c",
   "metadata": {},
   "outputs": [],
   "source": []
  },
  {
   "cell_type": "markdown",
   "id": "b5275f2e-169e-4e1d-82cc-c951677d0e32",
   "metadata": {},
   "source": [
    "### 1. seabornのload_datasetメソッドを使用し、Titanicデータセットを読み込んでください"
   ]
  },
  {
   "cell_type": "code",
   "execution_count": null,
   "id": "3702b5ce-75c0-407e-883a-30b5b03ff307",
   "metadata": {},
   "outputs": [],
   "source": []
  },
  {
   "cell_type": "markdown",
   "id": "2b11b731-fd44-4fe9-af01-dfb901cce3bc",
   "metadata": {},
   "source": [
    "### 2. 取得したデータで作成したデータフレームの先頭5行を表示すること"
   ]
  },
  {
   "cell_type": "code",
   "execution_count": null,
   "id": "b2b58855-0b91-4d2a-a404-f6c25b5b10a5",
   "metadata": {},
   "outputs": [],
   "source": []
  },
  {
   "cell_type": "markdown",
   "id": "bae69ae5-ca9e-46b1-86bf-5d775f52964f",
   "metadata": {},
   "source": [
    "### 3. データフレームの要約統計量を確認すること"
   ]
  },
  {
   "cell_type": "code",
   "execution_count": null,
   "id": "7d720fb5-322d-4627-af7b-5a360b70a7a2",
   "metadata": {},
   "outputs": [],
   "source": []
  },
  {
   "cell_type": "markdown",
   "id": "5a09a82a-aba1-4346-b211-a0fd916ba6da",
   "metadata": {},
   "source": [
    "### 4. 目的変数と説明変数に分けてください\n",
    "なお、今回の目的変数は「survived」とし、「alive」は使用しないので、データフレームから覗くこと\n",
    "また、説明変数にカテゴリ変数が含まれるのでダミー変数化すること"
   ]
  },
  {
   "cell_type": "code",
   "execution_count": null,
   "id": "e86fb014-7915-4e68-8b13-239e8391273d",
   "metadata": {},
   "outputs": [],
   "source": []
  },
  {
   "cell_type": "markdown",
   "id": "a95de8d5-b5eb-4a70-a473-734c5f7b513e",
   "metadata": {},
   "source": [
    "### 5. データを訓練用とテスト用にしてください。今回は、scikit-learnのtrain_test_splitを使い、7:3に分割すること。"
   ]
  },
  {
   "cell_type": "code",
   "execution_count": null,
   "id": "e8f42f69-ac42-4fa3-b638-099ac0e0cdb1",
   "metadata": {},
   "outputs": [],
   "source": []
  },
  {
   "cell_type": "markdown",
   "id": "52308f43-3b3b-41aa-a034-ec3907ff6083",
   "metadata": {},
   "source": [
    "### 6. lightgbm.LGBMClassifierクラスのインスタンスを作成してください\n",
    "ハイパーパラメータであるboosting_type='goss', max_depth=5, random_state=0, としてください。（その他はデフォルトでOK）"
   ]
  },
  {
   "cell_type": "code",
   "execution_count": null,
   "id": "e6e1b851-b07f-4058-b491-6bc848ff80db",
   "metadata": {},
   "outputs": [],
   "source": []
  },
  {
   "cell_type": "markdown",
   "id": "dc52710a-cb27-49f2-b3da-1ece057f246a",
   "metadata": {},
   "source": [
    "### 7. 学習用データ、検証用データ、コールバック関数を指定して学習を実行してください\n",
    "なお、コールバック関数には、early_stoppingとlog_evaluationを指定してください。"
   ]
  },
  {
   "cell_type": "code",
   "execution_count": null,
   "id": "3d6c0589-b555-4215-9eea-eef9be425332",
   "metadata": {},
   "outputs": [],
   "source": []
  },
  {
   "cell_type": "markdown",
   "id": "fe02a52f-2cf4-4341-be81-0d7c82a3a1d7",
   "metadata": {},
   "source": [
    "### 8. 学習済みのmodelについて、「best_iteration_」, 「best_score_」を表示し、確認してください。"
   ]
  },
  {
   "cell_type": "code",
   "execution_count": null,
   "id": "428dbf39-bc52-4fc8-bfd2-2f6b8b5aa09f",
   "metadata": {},
   "outputs": [],
   "source": []
  },
  {
   "cell_type": "markdown",
   "id": "51f5899e-c353-4af4-b891-fa0960563dfe",
   "metadata": {},
   "source": [
    "### 9. 検証用データを用い予測値を計算し、評価指標であるLogLossを算出してください。\n",
    "- LogLoss: ログ損失、予測された確率とその結果の乖離を交差エントロピーを利用して数値化したもの\n",
    "\n",
    "- 基本的に分類器を構築する時は,単純に model.predict()を使ってラベルを予測するのではなくて， model.predict_proba()で確率の値を得て適切な閾値を模索する"
   ]
  },
  {
   "cell_type": "code",
   "execution_count": null,
   "id": "f7fdc53e-f3a1-46aa-a36a-daac30e3a38f",
   "metadata": {},
   "outputs": [],
   "source": []
  },
  {
   "cell_type": "markdown",
   "id": "cdc13d68-0602-4968-9f6b-d55ebdba56fc",
   "metadata": {},
   "source": [
    "### 10. 学習したモデルの学習曲線を表示してください。"
   ]
  },
  {
   "cell_type": "code",
   "execution_count": null,
   "id": "ed103e11-94cf-4d84-a71c-46f192314207",
   "metadata": {},
   "outputs": [],
   "source": []
  },
  {
   "cell_type": "markdown",
   "id": "22e377ae-04f9-4111-acc0-4fc99ea7d95e",
   "metadata": {},
   "source": [
    "### 11. 今回の学習モデルの変数の重要度を確認してください。"
   ]
  },
  {
   "cell_type": "code",
   "execution_count": null,
   "id": "0ecdf139-94ba-4f25-9c50-76601637da6c",
   "metadata": {},
   "outputs": [],
   "source": []
  },
  {
   "cell_type": "code",
   "execution_count": null,
   "id": "7165bbf1-c000-473b-a0b1-071c0b65b8cc",
   "metadata": {},
   "outputs": [],
   "source": []
  }
 ],
 "metadata": {
  "kernelspec": {
   "display_name": "default:Python",
   "language": "python",
   "name": "conda-env-default-py"
  },
  "language_info": {
   "codemirror_mode": {
    "name": "ipython",
    "version": 3
   },
   "file_extension": ".py",
   "mimetype": "text/x-python",
   "name": "python",
   "nbconvert_exporter": "python",
   "pygments_lexer": "ipython3",
   "version": "3.9.10"
  }
 },
 "nbformat": 4,
 "nbformat_minor": 5
}

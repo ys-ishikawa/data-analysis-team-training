{
 "cells": [
  {
   "cell_type": "markdown",
   "id": "83a63658-0e9f-428c-ad4b-741917cda37c",
   "metadata": {},
   "source": [
    "### 0. 必要なモジュールをimport してください（必要に応じて以下のセルに追記していくこと）"
   ]
  },
  {
   "cell_type": "code",
   "execution_count": null,
   "id": "dbe31233-549e-4fad-9bac-81a810003a07",
   "metadata": {},
   "outputs": [],
   "source": []
  },
  {
   "cell_type": "markdown",
   "id": "7d7f8dad-5ae7-44ce-9d65-0236d6704942",
   "metadata": {},
   "source": [
    "### 1. ボストン市の住宅価格データをscikit-learnから取得し、データフレームに格納すること。（なお、目的変数となる住宅価格は「PRICE」とすること)\n",
    "### 説明変数と目的変数を一旦一つのデータフレームとしてください。\n",
    "\n",
    "↓↓ 以下は、データセットの各カラムの説明 \\\n",
    "（参考） Boston house-prices (ボストン市の住宅価格) \\\n",
    "https://pythondatascience.plavox.info/scikit-learn/scikit-learn%E3%81%AB%E4%BB%98%E5%B1%9E%E3%81%97%E3%81%A6%E3%81%84%E3%82%8B%E3%83%87%E3%83%BC%E3%82%BF%E3%82%BB%E3%83%83%E3%83%88"
   ]
  },
  {
   "cell_type": "code",
   "execution_count": null,
   "id": "7fade7aa-432c-44c5-af9a-1e40d3ffcf22",
   "metadata": {},
   "outputs": [],
   "source": []
  },
  {
   "cell_type": "markdown",
   "id": "70d9c8d2-534e-4ff3-a7ed-64ae47b5175e",
   "metadata": {},
   "source": [
    "### 2. 目的変数と説明変数に分けてください"
   ]
  },
  {
   "cell_type": "code",
   "execution_count": null,
   "id": "34e1b492-eb59-45de-b23e-b416839a73e3",
   "metadata": {},
   "outputs": [],
   "source": []
  },
  {
   "cell_type": "markdown",
   "id": "15da23c1-978c-4134-9cc9-bd4c60f678d1",
   "metadata": {},
   "source": [
    "### 3. k-Fold Cross Validationについて確認してください。その上で、scikit-learnのkFoldクラスのインスタンスを作成してください。\n",
    "- ただし、kは5, random_stateは0, グループ分けはシャッフルするようにしてください"
   ]
  },
  {
   "cell_type": "code",
   "execution_count": null,
   "id": "21f09985-98b1-4230-9881-3486f9e2f3bb",
   "metadata": {},
   "outputs": [],
   "source": []
  },
  {
   "cell_type": "markdown",
   "id": "8e8f5402-6464-4f2a-8324-87174bb6e953",
   "metadata": {},
   "source": [
    "### 4. lightgbm.LGBMRegressorクラスのインスタンスを作成してください。\n",
    "- ハイパーパラメータであるboosting_typeを'goss', max_depth=10, random_state=0, としてください。（その他はデフォルトでOK）"
   ]
  },
  {
   "cell_type": "code",
   "execution_count": null,
   "id": "b5075cbe-30ef-4d72-858b-7e50be8a8abf",
   "metadata": {},
   "outputs": [],
   "source": []
  },
  {
   "cell_type": "markdown",
   "id": "49619f75-ee8e-4a32-b4cd-e085ad83b1a0",
   "metadata": {},
   "source": [
    "### 5. コールバック関数を指定し、またRMSEを評価指標とし、学習を実行してください\n",
    "- なお、コールバック関数には、early_stoppingとlog_evaluationを指定してください。\n",
    "- RMSEは後で平均を計算できるようにしてください"
   ]
  },
  {
   "cell_type": "code",
   "execution_count": null,
   "id": "00d027a9-0e6c-4c84-9321-cb5de03bd14a",
   "metadata": {},
   "outputs": [],
   "source": []
  },
  {
   "cell_type": "markdown",
   "id": "cab6b326-08ed-4c9d-bb55-5c73933733be",
   "metadata": {},
   "source": [
    "### 6. 毎回のイテレーションで学習した際のRMSEの平均を計算し出力してください"
   ]
  },
  {
   "cell_type": "code",
   "execution_count": null,
   "id": "53abd935-ff5d-4ac9-8d38-35fbd08a97a0",
   "metadata": {},
   "outputs": [],
   "source": []
  },
  {
   "cell_type": "markdown",
   "id": "ec898668-098e-41a0-9b4a-2007194851c0",
   "metadata": {},
   "source": [
    "### 7. scikit-learnにあるcross_val_scoreについて確認し、それを用いて、scoreを出力してください。\n",
    "- 指標はMSEとし, クロスバリデーションに使うのは上記と同様のkFoldのインスタンスを指定してください"
   ]
  },
  {
   "cell_type": "code",
   "execution_count": null,
   "id": "8f604674-1fd9-4c17-b22c-0dc950112d66",
   "metadata": {},
   "outputs": [],
   "source": []
  },
  {
   "cell_type": "code",
   "execution_count": null,
   "id": "ddb79757-f238-4a7b-b46d-572a9ea0c048",
   "metadata": {},
   "outputs": [],
   "source": []
  },
  {
   "cell_type": "markdown",
   "id": "ec8a6ccf-a259-44c9-b67f-7152cd8fefd8",
   "metadata": {},
   "source": [
    "### 8. 学習済みのmodelについて、「best_score_」を表示し、確認してください"
   ]
  },
  {
   "cell_type": "code",
   "execution_count": null,
   "id": "34952063-3309-4820-89fa-b885459dc0e3",
   "metadata": {},
   "outputs": [],
   "source": []
  },
  {
   "cell_type": "code",
   "execution_count": null,
   "id": "cf39b043-5f06-4aef-8d56-69ed9f39bd52",
   "metadata": {},
   "outputs": [],
   "source": []
  }
 ],
 "metadata": {
  "kernelspec": {
   "display_name": "default:Python",
   "language": "python",
   "name": "conda-env-default-py"
  },
  "language_info": {
   "codemirror_mode": {
    "name": "ipython",
    "version": 3
   },
   "file_extension": ".py",
   "mimetype": "text/x-python",
   "name": "python",
   "nbconvert_exporter": "python",
   "pygments_lexer": "ipython3",
   "version": "3.9.10"
  }
 },
 "nbformat": 4,
 "nbformat_minor": 5
}
